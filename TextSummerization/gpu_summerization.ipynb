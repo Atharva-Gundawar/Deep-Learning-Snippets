{
  "nbformat": 4,
  "nbformat_minor": 0,
  "metadata": {
    "colab": {
      "name": "Copy of summary_gpu.ipynb",
      "provenance": [],
      "collapsed_sections": []
    },
    "kernelspec": {
      "name": "python3",
      "display_name": "Python 3"
    },
    "accelerator": "GPU",
    "widgets": {
      "application/vnd.jupyter.widget-state+json": {
        "239374db97544249a38cecde57a6d77c": {
          "model_module": "@jupyter-widgets/controls",
          "model_name": "HBoxModel",
          "state": {
            "_view_name": "HBoxView",
            "_dom_classes": [],
            "_model_name": "HBoxModel",
            "_view_module": "@jupyter-widgets/controls",
            "_model_module_version": "1.5.0",
            "_view_count": null,
            "_view_module_version": "1.5.0",
            "box_style": "",
            "layout": "IPY_MODEL_51149e6d609f46ebb00a734938f77498",
            "_model_module": "@jupyter-widgets/controls",
            "children": [
              "IPY_MODEL_7d06eb5e65cf44ff837333807176d339",
              "IPY_MODEL_22596d7cf5d94095b3aa2cf4fb88b953"
            ]
          }
        },
        "51149e6d609f46ebb00a734938f77498": {
          "model_module": "@jupyter-widgets/base",
          "model_name": "LayoutModel",
          "state": {
            "_view_name": "LayoutView",
            "grid_template_rows": null,
            "right": null,
            "justify_content": null,
            "_view_module": "@jupyter-widgets/base",
            "overflow": null,
            "_model_module_version": "1.2.0",
            "_view_count": null,
            "flex_flow": null,
            "width": null,
            "min_width": null,
            "border": null,
            "align_items": null,
            "bottom": null,
            "_model_module": "@jupyter-widgets/base",
            "top": null,
            "grid_column": null,
            "overflow_y": null,
            "overflow_x": null,
            "grid_auto_flow": null,
            "grid_area": null,
            "grid_template_columns": null,
            "flex": null,
            "_model_name": "LayoutModel",
            "justify_items": null,
            "grid_row": null,
            "max_height": null,
            "align_content": null,
            "visibility": null,
            "align_self": null,
            "height": null,
            "min_height": null,
            "padding": null,
            "grid_auto_rows": null,
            "grid_gap": null,
            "max_width": null,
            "order": null,
            "_view_module_version": "1.2.0",
            "grid_template_areas": null,
            "object_position": null,
            "object_fit": null,
            "grid_auto_columns": null,
            "margin": null,
            "display": null,
            "left": null
          }
        },
        "7d06eb5e65cf44ff837333807176d339": {
          "model_module": "@jupyter-widgets/controls",
          "model_name": "FloatProgressModel",
          "state": {
            "_view_name": "ProgressView",
            "style": "IPY_MODEL_c24aa05946e849ee95cd1f311f101bdb",
            "_dom_classes": [],
            "description": "Downloading: 100%",
            "_model_name": "FloatProgressModel",
            "bar_style": "success",
            "max": 442,
            "_view_module": "@jupyter-widgets/controls",
            "_model_module_version": "1.5.0",
            "value": 442,
            "_view_count": null,
            "_view_module_version": "1.5.0",
            "orientation": "horizontal",
            "min": 0,
            "description_tooltip": null,
            "_model_module": "@jupyter-widgets/controls",
            "layout": "IPY_MODEL_98a69a0518e74a849f749e87cc1d1296"
          }
        },
        "22596d7cf5d94095b3aa2cf4fb88b953": {
          "model_module": "@jupyter-widgets/controls",
          "model_name": "HTMLModel",
          "state": {
            "_view_name": "HTMLView",
            "style": "IPY_MODEL_33b4705a7f014cdc95469b42bb852112",
            "_dom_classes": [],
            "description": "",
            "_model_name": "HTMLModel",
            "placeholder": "​",
            "_view_module": "@jupyter-widgets/controls",
            "_model_module_version": "1.5.0",
            "value": " 442/442 [00:00&lt;00:00, 9.25kB/s]",
            "_view_count": null,
            "_view_module_version": "1.5.0",
            "description_tooltip": null,
            "_model_module": "@jupyter-widgets/controls",
            "layout": "IPY_MODEL_b6ee95281937498abd1256c986feb911"
          }
        },
        "c24aa05946e849ee95cd1f311f101bdb": {
          "model_module": "@jupyter-widgets/controls",
          "model_name": "ProgressStyleModel",
          "state": {
            "_view_name": "StyleView",
            "_model_name": "ProgressStyleModel",
            "description_width": "initial",
            "_view_module": "@jupyter-widgets/base",
            "_model_module_version": "1.5.0",
            "_view_count": null,
            "_view_module_version": "1.2.0",
            "bar_color": null,
            "_model_module": "@jupyter-widgets/controls"
          }
        },
        "98a69a0518e74a849f749e87cc1d1296": {
          "model_module": "@jupyter-widgets/base",
          "model_name": "LayoutModel",
          "state": {
            "_view_name": "LayoutView",
            "grid_template_rows": null,
            "right": null,
            "justify_content": null,
            "_view_module": "@jupyter-widgets/base",
            "overflow": null,
            "_model_module_version": "1.2.0",
            "_view_count": null,
            "flex_flow": null,
            "width": null,
            "min_width": null,
            "border": null,
            "align_items": null,
            "bottom": null,
            "_model_module": "@jupyter-widgets/base",
            "top": null,
            "grid_column": null,
            "overflow_y": null,
            "overflow_x": null,
            "grid_auto_flow": null,
            "grid_area": null,
            "grid_template_columns": null,
            "flex": null,
            "_model_name": "LayoutModel",
            "justify_items": null,
            "grid_row": null,
            "max_height": null,
            "align_content": null,
            "visibility": null,
            "align_self": null,
            "height": null,
            "min_height": null,
            "padding": null,
            "grid_auto_rows": null,
            "grid_gap": null,
            "max_width": null,
            "order": null,
            "_view_module_version": "1.2.0",
            "grid_template_areas": null,
            "object_position": null,
            "object_fit": null,
            "grid_auto_columns": null,
            "margin": null,
            "display": null,
            "left": null
          }
        },
        "33b4705a7f014cdc95469b42bb852112": {
          "model_module": "@jupyter-widgets/controls",
          "model_name": "DescriptionStyleModel",
          "state": {
            "_view_name": "StyleView",
            "_model_name": "DescriptionStyleModel",
            "description_width": "",
            "_view_module": "@jupyter-widgets/base",
            "_model_module_version": "1.5.0",
            "_view_count": null,
            "_view_module_version": "1.2.0",
            "_model_module": "@jupyter-widgets/controls"
          }
        },
        "b6ee95281937498abd1256c986feb911": {
          "model_module": "@jupyter-widgets/base",
          "model_name": "LayoutModel",
          "state": {
            "_view_name": "LayoutView",
            "grid_template_rows": null,
            "right": null,
            "justify_content": null,
            "_view_module": "@jupyter-widgets/base",
            "overflow": null,
            "_model_module_version": "1.2.0",
            "_view_count": null,
            "flex_flow": null,
            "width": null,
            "min_width": null,
            "border": null,
            "align_items": null,
            "bottom": null,
            "_model_module": "@jupyter-widgets/base",
            "top": null,
            "grid_column": null,
            "overflow_y": null,
            "overflow_x": null,
            "grid_auto_flow": null,
            "grid_area": null,
            "grid_template_columns": null,
            "flex": null,
            "_model_name": "LayoutModel",
            "justify_items": null,
            "grid_row": null,
            "max_height": null,
            "align_content": null,
            "visibility": null,
            "align_self": null,
            "height": null,
            "min_height": null,
            "padding": null,
            "grid_auto_rows": null,
            "grid_gap": null,
            "max_width": null,
            "order": null,
            "_view_module_version": "1.2.0",
            "grid_template_areas": null,
            "object_position": null,
            "object_fit": null,
            "grid_auto_columns": null,
            "margin": null,
            "display": null,
            "left": null
          }
        },
        "e40e3eacd6874ea8b2c2263a227bd785": {
          "model_module": "@jupyter-widgets/controls",
          "model_name": "HBoxModel",
          "state": {
            "_view_name": "HBoxView",
            "_dom_classes": [],
            "_model_name": "HBoxModel",
            "_view_module": "@jupyter-widgets/controls",
            "_model_module_version": "1.5.0",
            "_view_count": null,
            "_view_module_version": "1.5.0",
            "box_style": "",
            "layout": "IPY_MODEL_68f32e0c495a4fe6b64fbc82df3acca2",
            "_model_module": "@jupyter-widgets/controls",
            "children": [
              "IPY_MODEL_779e569f7b45455f91d4bf41ea424ccf",
              "IPY_MODEL_e250b03669c44eba862b1a4c50ec5c72"
            ]
          }
        },
        "68f32e0c495a4fe6b64fbc82df3acca2": {
          "model_module": "@jupyter-widgets/base",
          "model_name": "LayoutModel",
          "state": {
            "_view_name": "LayoutView",
            "grid_template_rows": null,
            "right": null,
            "justify_content": null,
            "_view_module": "@jupyter-widgets/base",
            "overflow": null,
            "_model_module_version": "1.2.0",
            "_view_count": null,
            "flex_flow": null,
            "width": null,
            "min_width": null,
            "border": null,
            "align_items": null,
            "bottom": null,
            "_model_module": "@jupyter-widgets/base",
            "top": null,
            "grid_column": null,
            "overflow_y": null,
            "overflow_x": null,
            "grid_auto_flow": null,
            "grid_area": null,
            "grid_template_columns": null,
            "flex": null,
            "_model_name": "LayoutModel",
            "justify_items": null,
            "grid_row": null,
            "max_height": null,
            "align_content": null,
            "visibility": null,
            "align_self": null,
            "height": null,
            "min_height": null,
            "padding": null,
            "grid_auto_rows": null,
            "grid_gap": null,
            "max_width": null,
            "order": null,
            "_view_module_version": "1.2.0",
            "grid_template_areas": null,
            "object_position": null,
            "object_fit": null,
            "grid_auto_columns": null,
            "margin": null,
            "display": null,
            "left": null
          }
        },
        "779e569f7b45455f91d4bf41ea424ccf": {
          "model_module": "@jupyter-widgets/controls",
          "model_name": "FloatProgressModel",
          "state": {
            "_view_name": "ProgressView",
            "style": "IPY_MODEL_ad6bb950dd654f03bcf67638c207f440",
            "_dom_classes": [],
            "description": "Downloading: 100%",
            "_model_name": "FloatProgressModel",
            "bar_style": "success",
            "max": 267967963,
            "_view_module": "@jupyter-widgets/controls",
            "_model_module_version": "1.5.0",
            "value": 267967963,
            "_view_count": null,
            "_view_module_version": "1.5.0",
            "orientation": "horizontal",
            "min": 0,
            "description_tooltip": null,
            "_model_module": "@jupyter-widgets/controls",
            "layout": "IPY_MODEL_d03a21f7d7a94a1ea3b5fb3749519773"
          }
        },
        "e250b03669c44eba862b1a4c50ec5c72": {
          "model_module": "@jupyter-widgets/controls",
          "model_name": "HTMLModel",
          "state": {
            "_view_name": "HTMLView",
            "style": "IPY_MODEL_4702ed83b1de403681c10a633be2ea60",
            "_dom_classes": [],
            "description": "",
            "_model_name": "HTMLModel",
            "placeholder": "​",
            "_view_module": "@jupyter-widgets/controls",
            "_model_module_version": "1.5.0",
            "value": " 268M/268M [00:05&lt;00:00, 46.7MB/s]",
            "_view_count": null,
            "_view_module_version": "1.5.0",
            "description_tooltip": null,
            "_model_module": "@jupyter-widgets/controls",
            "layout": "IPY_MODEL_81d28c4935da477b93f264bd37d12dfe"
          }
        },
        "ad6bb950dd654f03bcf67638c207f440": {
          "model_module": "@jupyter-widgets/controls",
          "model_name": "ProgressStyleModel",
          "state": {
            "_view_name": "StyleView",
            "_model_name": "ProgressStyleModel",
            "description_width": "initial",
            "_view_module": "@jupyter-widgets/base",
            "_model_module_version": "1.5.0",
            "_view_count": null,
            "_view_module_version": "1.2.0",
            "bar_color": null,
            "_model_module": "@jupyter-widgets/controls"
          }
        },
        "d03a21f7d7a94a1ea3b5fb3749519773": {
          "model_module": "@jupyter-widgets/base",
          "model_name": "LayoutModel",
          "state": {
            "_view_name": "LayoutView",
            "grid_template_rows": null,
            "right": null,
            "justify_content": null,
            "_view_module": "@jupyter-widgets/base",
            "overflow": null,
            "_model_module_version": "1.2.0",
            "_view_count": null,
            "flex_flow": null,
            "width": null,
            "min_width": null,
            "border": null,
            "align_items": null,
            "bottom": null,
            "_model_module": "@jupyter-widgets/base",
            "top": null,
            "grid_column": null,
            "overflow_y": null,
            "overflow_x": null,
            "grid_auto_flow": null,
            "grid_area": null,
            "grid_template_columns": null,
            "flex": null,
            "_model_name": "LayoutModel",
            "justify_items": null,
            "grid_row": null,
            "max_height": null,
            "align_content": null,
            "visibility": null,
            "align_self": null,
            "height": null,
            "min_height": null,
            "padding": null,
            "grid_auto_rows": null,
            "grid_gap": null,
            "max_width": null,
            "order": null,
            "_view_module_version": "1.2.0",
            "grid_template_areas": null,
            "object_position": null,
            "object_fit": null,
            "grid_auto_columns": null,
            "margin": null,
            "display": null,
            "left": null
          }
        },
        "4702ed83b1de403681c10a633be2ea60": {
          "model_module": "@jupyter-widgets/controls",
          "model_name": "DescriptionStyleModel",
          "state": {
            "_view_name": "StyleView",
            "_model_name": "DescriptionStyleModel",
            "description_width": "",
            "_view_module": "@jupyter-widgets/base",
            "_model_module_version": "1.5.0",
            "_view_count": null,
            "_view_module_version": "1.2.0",
            "_model_module": "@jupyter-widgets/controls"
          }
        },
        "81d28c4935da477b93f264bd37d12dfe": {
          "model_module": "@jupyter-widgets/base",
          "model_name": "LayoutModel",
          "state": {
            "_view_name": "LayoutView",
            "grid_template_rows": null,
            "right": null,
            "justify_content": null,
            "_view_module": "@jupyter-widgets/base",
            "overflow": null,
            "_model_module_version": "1.2.0",
            "_view_count": null,
            "flex_flow": null,
            "width": null,
            "min_width": null,
            "border": null,
            "align_items": null,
            "bottom": null,
            "_model_module": "@jupyter-widgets/base",
            "top": null,
            "grid_column": null,
            "overflow_y": null,
            "overflow_x": null,
            "grid_auto_flow": null,
            "grid_area": null,
            "grid_template_columns": null,
            "flex": null,
            "_model_name": "LayoutModel",
            "justify_items": null,
            "grid_row": null,
            "max_height": null,
            "align_content": null,
            "visibility": null,
            "align_self": null,
            "height": null,
            "min_height": null,
            "padding": null,
            "grid_auto_rows": null,
            "grid_gap": null,
            "max_width": null,
            "order": null,
            "_view_module_version": "1.2.0",
            "grid_template_areas": null,
            "object_position": null,
            "object_fit": null,
            "grid_auto_columns": null,
            "margin": null,
            "display": null,
            "left": null
          }
        },
        "7a13cac1d5f445f8a3a58ac8aa6e359e": {
          "model_module": "@jupyter-widgets/controls",
          "model_name": "HBoxModel",
          "state": {
            "_view_name": "HBoxView",
            "_dom_classes": [],
            "_model_name": "HBoxModel",
            "_view_module": "@jupyter-widgets/controls",
            "_model_module_version": "1.5.0",
            "_view_count": null,
            "_view_module_version": "1.5.0",
            "box_style": "",
            "layout": "IPY_MODEL_efd4ea1759be4bfaa824229623defa3e",
            "_model_module": "@jupyter-widgets/controls",
            "children": [
              "IPY_MODEL_4dffaed497414847be443eb46a3415cf",
              "IPY_MODEL_b0b5e49e77d54a94852fe26d18b2c518"
            ]
          }
        },
        "efd4ea1759be4bfaa824229623defa3e": {
          "model_module": "@jupyter-widgets/base",
          "model_name": "LayoutModel",
          "state": {
            "_view_name": "LayoutView",
            "grid_template_rows": null,
            "right": null,
            "justify_content": null,
            "_view_module": "@jupyter-widgets/base",
            "overflow": null,
            "_model_module_version": "1.2.0",
            "_view_count": null,
            "flex_flow": null,
            "width": null,
            "min_width": null,
            "border": null,
            "align_items": null,
            "bottom": null,
            "_model_module": "@jupyter-widgets/base",
            "top": null,
            "grid_column": null,
            "overflow_y": null,
            "overflow_x": null,
            "grid_auto_flow": null,
            "grid_area": null,
            "grid_template_columns": null,
            "flex": null,
            "_model_name": "LayoutModel",
            "justify_items": null,
            "grid_row": null,
            "max_height": null,
            "align_content": null,
            "visibility": null,
            "align_self": null,
            "height": null,
            "min_height": null,
            "padding": null,
            "grid_auto_rows": null,
            "grid_gap": null,
            "max_width": null,
            "order": null,
            "_view_module_version": "1.2.0",
            "grid_template_areas": null,
            "object_position": null,
            "object_fit": null,
            "grid_auto_columns": null,
            "margin": null,
            "display": null,
            "left": null
          }
        },
        "4dffaed497414847be443eb46a3415cf": {
          "model_module": "@jupyter-widgets/controls",
          "model_name": "FloatProgressModel",
          "state": {
            "_view_name": "ProgressView",
            "style": "IPY_MODEL_50a964baabd245279ad639368b8d8f33",
            "_dom_classes": [],
            "description": "Downloading: 100%",
            "_model_name": "FloatProgressModel",
            "bar_style": "success",
            "max": 231508,
            "_view_module": "@jupyter-widgets/controls",
            "_model_module_version": "1.5.0",
            "value": 231508,
            "_view_count": null,
            "_view_module_version": "1.5.0",
            "orientation": "horizontal",
            "min": 0,
            "description_tooltip": null,
            "_model_module": "@jupyter-widgets/controls",
            "layout": "IPY_MODEL_03598266422e4012ab54df391c7ad4ed"
          }
        },
        "b0b5e49e77d54a94852fe26d18b2c518": {
          "model_module": "@jupyter-widgets/controls",
          "model_name": "HTMLModel",
          "state": {
            "_view_name": "HTMLView",
            "style": "IPY_MODEL_a573aff0401a4bc79f9177318b04fa04",
            "_dom_classes": [],
            "description": "",
            "_model_name": "HTMLModel",
            "placeholder": "​",
            "_view_module": "@jupyter-widgets/controls",
            "_model_module_version": "1.5.0",
            "value": " 232k/232k [00:00&lt;00:00, 790kB/s]",
            "_view_count": null,
            "_view_module_version": "1.5.0",
            "description_tooltip": null,
            "_model_module": "@jupyter-widgets/controls",
            "layout": "IPY_MODEL_bbbafe64a3ee496595542f7fc3515fab"
          }
        },
        "50a964baabd245279ad639368b8d8f33": {
          "model_module": "@jupyter-widgets/controls",
          "model_name": "ProgressStyleModel",
          "state": {
            "_view_name": "StyleView",
            "_model_name": "ProgressStyleModel",
            "description_width": "initial",
            "_view_module": "@jupyter-widgets/base",
            "_model_module_version": "1.5.0",
            "_view_count": null,
            "_view_module_version": "1.2.0",
            "bar_color": null,
            "_model_module": "@jupyter-widgets/controls"
          }
        },
        "03598266422e4012ab54df391c7ad4ed": {
          "model_module": "@jupyter-widgets/base",
          "model_name": "LayoutModel",
          "state": {
            "_view_name": "LayoutView",
            "grid_template_rows": null,
            "right": null,
            "justify_content": null,
            "_view_module": "@jupyter-widgets/base",
            "overflow": null,
            "_model_module_version": "1.2.0",
            "_view_count": null,
            "flex_flow": null,
            "width": null,
            "min_width": null,
            "border": null,
            "align_items": null,
            "bottom": null,
            "_model_module": "@jupyter-widgets/base",
            "top": null,
            "grid_column": null,
            "overflow_y": null,
            "overflow_x": null,
            "grid_auto_flow": null,
            "grid_area": null,
            "grid_template_columns": null,
            "flex": null,
            "_model_name": "LayoutModel",
            "justify_items": null,
            "grid_row": null,
            "max_height": null,
            "align_content": null,
            "visibility": null,
            "align_self": null,
            "height": null,
            "min_height": null,
            "padding": null,
            "grid_auto_rows": null,
            "grid_gap": null,
            "max_width": null,
            "order": null,
            "_view_module_version": "1.2.0",
            "grid_template_areas": null,
            "object_position": null,
            "object_fit": null,
            "grid_auto_columns": null,
            "margin": null,
            "display": null,
            "left": null
          }
        },
        "a573aff0401a4bc79f9177318b04fa04": {
          "model_module": "@jupyter-widgets/controls",
          "model_name": "DescriptionStyleModel",
          "state": {
            "_view_name": "StyleView",
            "_model_name": "DescriptionStyleModel",
            "description_width": "",
            "_view_module": "@jupyter-widgets/base",
            "_model_module_version": "1.5.0",
            "_view_count": null,
            "_view_module_version": "1.2.0",
            "_model_module": "@jupyter-widgets/controls"
          }
        },
        "bbbafe64a3ee496595542f7fc3515fab": {
          "model_module": "@jupyter-widgets/base",
          "model_name": "LayoutModel",
          "state": {
            "_view_name": "LayoutView",
            "grid_template_rows": null,
            "right": null,
            "justify_content": null,
            "_view_module": "@jupyter-widgets/base",
            "overflow": null,
            "_model_module_version": "1.2.0",
            "_view_count": null,
            "flex_flow": null,
            "width": null,
            "min_width": null,
            "border": null,
            "align_items": null,
            "bottom": null,
            "_model_module": "@jupyter-widgets/base",
            "top": null,
            "grid_column": null,
            "overflow_y": null,
            "overflow_x": null,
            "grid_auto_flow": null,
            "grid_area": null,
            "grid_template_columns": null,
            "flex": null,
            "_model_name": "LayoutModel",
            "justify_items": null,
            "grid_row": null,
            "max_height": null,
            "align_content": null,
            "visibility": null,
            "align_self": null,
            "height": null,
            "min_height": null,
            "padding": null,
            "grid_auto_rows": null,
            "grid_gap": null,
            "max_width": null,
            "order": null,
            "_view_module_version": "1.2.0",
            "grid_template_areas": null,
            "object_position": null,
            "object_fit": null,
            "grid_auto_columns": null,
            "margin": null,
            "display": null,
            "left": null
          }
        },
        "e78a72b8e116408ab0e5f36b95312f31": {
          "model_module": "@jupyter-widgets/controls",
          "model_name": "HBoxModel",
          "state": {
            "_view_name": "HBoxView",
            "_dom_classes": [],
            "_model_name": "HBoxModel",
            "_view_module": "@jupyter-widgets/controls",
            "_model_module_version": "1.5.0",
            "_view_count": null,
            "_view_module_version": "1.5.0",
            "box_style": "",
            "layout": "IPY_MODEL_83b5d6413a4f4a19b6fe7553f8b0edaa",
            "_model_module": "@jupyter-widgets/controls",
            "children": [
              "IPY_MODEL_8a6db536ae844410b33a148be6630f98",
              "IPY_MODEL_f3e02a5c4a394239bede236d698782c8"
            ]
          }
        },
        "83b5d6413a4f4a19b6fe7553f8b0edaa": {
          "model_module": "@jupyter-widgets/base",
          "model_name": "LayoutModel",
          "state": {
            "_view_name": "LayoutView",
            "grid_template_rows": null,
            "right": null,
            "justify_content": null,
            "_view_module": "@jupyter-widgets/base",
            "overflow": null,
            "_model_module_version": "1.2.0",
            "_view_count": null,
            "flex_flow": null,
            "width": null,
            "min_width": null,
            "border": null,
            "align_items": null,
            "bottom": null,
            "_model_module": "@jupyter-widgets/base",
            "top": null,
            "grid_column": null,
            "overflow_y": null,
            "overflow_x": null,
            "grid_auto_flow": null,
            "grid_area": null,
            "grid_template_columns": null,
            "flex": null,
            "_model_name": "LayoutModel",
            "justify_items": null,
            "grid_row": null,
            "max_height": null,
            "align_content": null,
            "visibility": null,
            "align_self": null,
            "height": null,
            "min_height": null,
            "padding": null,
            "grid_auto_rows": null,
            "grid_gap": null,
            "max_width": null,
            "order": null,
            "_view_module_version": "1.2.0",
            "grid_template_areas": null,
            "object_position": null,
            "object_fit": null,
            "grid_auto_columns": null,
            "margin": null,
            "display": null,
            "left": null
          }
        },
        "8a6db536ae844410b33a148be6630f98": {
          "model_module": "@jupyter-widgets/controls",
          "model_name": "FloatProgressModel",
          "state": {
            "_view_name": "ProgressView",
            "style": "IPY_MODEL_989cdf8481b94b93a161013f5c722faf",
            "_dom_classes": [],
            "description": "Downloading: 100%",
            "_model_name": "FloatProgressModel",
            "bar_style": "success",
            "max": 28,
            "_view_module": "@jupyter-widgets/controls",
            "_model_module_version": "1.5.0",
            "value": 28,
            "_view_count": null,
            "_view_module_version": "1.5.0",
            "orientation": "horizontal",
            "min": 0,
            "description_tooltip": null,
            "_model_module": "@jupyter-widgets/controls",
            "layout": "IPY_MODEL_48b6684bca9645899660fa8410bf9ed9"
          }
        },
        "f3e02a5c4a394239bede236d698782c8": {
          "model_module": "@jupyter-widgets/controls",
          "model_name": "HTMLModel",
          "state": {
            "_view_name": "HTMLView",
            "style": "IPY_MODEL_30814cef1ce9464aa4d43920f2a241bb",
            "_dom_classes": [],
            "description": "",
            "_model_name": "HTMLModel",
            "placeholder": "​",
            "_view_module": "@jupyter-widgets/controls",
            "_model_module_version": "1.5.0",
            "value": " 28.0/28.0 [00:00&lt;00:00, 166B/s]",
            "_view_count": null,
            "_view_module_version": "1.5.0",
            "description_tooltip": null,
            "_model_module": "@jupyter-widgets/controls",
            "layout": "IPY_MODEL_ed2037e9e8a74b65ad891eed41e28959"
          }
        },
        "989cdf8481b94b93a161013f5c722faf": {
          "model_module": "@jupyter-widgets/controls",
          "model_name": "ProgressStyleModel",
          "state": {
            "_view_name": "StyleView",
            "_model_name": "ProgressStyleModel",
            "description_width": "initial",
            "_view_module": "@jupyter-widgets/base",
            "_model_module_version": "1.5.0",
            "_view_count": null,
            "_view_module_version": "1.2.0",
            "bar_color": null,
            "_model_module": "@jupyter-widgets/controls"
          }
        },
        "48b6684bca9645899660fa8410bf9ed9": {
          "model_module": "@jupyter-widgets/base",
          "model_name": "LayoutModel",
          "state": {
            "_view_name": "LayoutView",
            "grid_template_rows": null,
            "right": null,
            "justify_content": null,
            "_view_module": "@jupyter-widgets/base",
            "overflow": null,
            "_model_module_version": "1.2.0",
            "_view_count": null,
            "flex_flow": null,
            "width": null,
            "min_width": null,
            "border": null,
            "align_items": null,
            "bottom": null,
            "_model_module": "@jupyter-widgets/base",
            "top": null,
            "grid_column": null,
            "overflow_y": null,
            "overflow_x": null,
            "grid_auto_flow": null,
            "grid_area": null,
            "grid_template_columns": null,
            "flex": null,
            "_model_name": "LayoutModel",
            "justify_items": null,
            "grid_row": null,
            "max_height": null,
            "align_content": null,
            "visibility": null,
            "align_self": null,
            "height": null,
            "min_height": null,
            "padding": null,
            "grid_auto_rows": null,
            "grid_gap": null,
            "max_width": null,
            "order": null,
            "_view_module_version": "1.2.0",
            "grid_template_areas": null,
            "object_position": null,
            "object_fit": null,
            "grid_auto_columns": null,
            "margin": null,
            "display": null,
            "left": null
          }
        },
        "30814cef1ce9464aa4d43920f2a241bb": {
          "model_module": "@jupyter-widgets/controls",
          "model_name": "DescriptionStyleModel",
          "state": {
            "_view_name": "StyleView",
            "_model_name": "DescriptionStyleModel",
            "description_width": "",
            "_view_module": "@jupyter-widgets/base",
            "_model_module_version": "1.5.0",
            "_view_count": null,
            "_view_module_version": "1.2.0",
            "_model_module": "@jupyter-widgets/controls"
          }
        },
        "ed2037e9e8a74b65ad891eed41e28959": {
          "model_module": "@jupyter-widgets/base",
          "model_name": "LayoutModel",
          "state": {
            "_view_name": "LayoutView",
            "grid_template_rows": null,
            "right": null,
            "justify_content": null,
            "_view_module": "@jupyter-widgets/base",
            "overflow": null,
            "_model_module_version": "1.2.0",
            "_view_count": null,
            "flex_flow": null,
            "width": null,
            "min_width": null,
            "border": null,
            "align_items": null,
            "bottom": null,
            "_model_module": "@jupyter-widgets/base",
            "top": null,
            "grid_column": null,
            "overflow_y": null,
            "overflow_x": null,
            "grid_auto_flow": null,
            "grid_area": null,
            "grid_template_columns": null,
            "flex": null,
            "_model_name": "LayoutModel",
            "justify_items": null,
            "grid_row": null,
            "max_height": null,
            "align_content": null,
            "visibility": null,
            "align_self": null,
            "height": null,
            "min_height": null,
            "padding": null,
            "grid_auto_rows": null,
            "grid_gap": null,
            "max_width": null,
            "order": null,
            "_view_module_version": "1.2.0",
            "grid_template_areas": null,
            "object_position": null,
            "object_fit": null,
            "grid_auto_columns": null,
            "margin": null,
            "display": null,
            "left": null
          }
        },
        "d0cda23de80e493ea45aafe1f6992602": {
          "model_module": "@jupyter-widgets/controls",
          "model_name": "HBoxModel",
          "state": {
            "_view_name": "HBoxView",
            "_dom_classes": [],
            "_model_name": "HBoxModel",
            "_view_module": "@jupyter-widgets/controls",
            "_model_module_version": "1.5.0",
            "_view_count": null,
            "_view_module_version": "1.5.0",
            "box_style": "",
            "layout": "IPY_MODEL_0928fe56626b4ac783334b9fbf1b826e",
            "_model_module": "@jupyter-widgets/controls",
            "children": [
              "IPY_MODEL_6029a68bb0984522bc2dc858b16b5467",
              "IPY_MODEL_944ca5725e1f47fb83bd1865c39cf370"
            ]
          }
        },
        "0928fe56626b4ac783334b9fbf1b826e": {
          "model_module": "@jupyter-widgets/base",
          "model_name": "LayoutModel",
          "state": {
            "_view_name": "LayoutView",
            "grid_template_rows": null,
            "right": null,
            "justify_content": null,
            "_view_module": "@jupyter-widgets/base",
            "overflow": null,
            "_model_module_version": "1.2.0",
            "_view_count": null,
            "flex_flow": null,
            "width": null,
            "min_width": null,
            "border": null,
            "align_items": null,
            "bottom": null,
            "_model_module": "@jupyter-widgets/base",
            "top": null,
            "grid_column": null,
            "overflow_y": null,
            "overflow_x": null,
            "grid_auto_flow": null,
            "grid_area": null,
            "grid_template_columns": null,
            "flex": null,
            "_model_name": "LayoutModel",
            "justify_items": null,
            "grid_row": null,
            "max_height": null,
            "align_content": null,
            "visibility": null,
            "align_self": null,
            "height": null,
            "min_height": null,
            "padding": null,
            "grid_auto_rows": null,
            "grid_gap": null,
            "max_width": null,
            "order": null,
            "_view_module_version": "1.2.0",
            "grid_template_areas": null,
            "object_position": null,
            "object_fit": null,
            "grid_auto_columns": null,
            "margin": null,
            "display": null,
            "left": null
          }
        },
        "6029a68bb0984522bc2dc858b16b5467": {
          "model_module": "@jupyter-widgets/controls",
          "model_name": "FloatProgressModel",
          "state": {
            "_view_name": "ProgressView",
            "style": "IPY_MODEL_6e18b91a1dde4c09a2d53a190bb64ab8",
            "_dom_classes": [],
            "description": "Downloading: 100%",
            "_model_name": "FloatProgressModel",
            "bar_style": "success",
            "max": 466062,
            "_view_module": "@jupyter-widgets/controls",
            "_model_module_version": "1.5.0",
            "value": 466062,
            "_view_count": null,
            "_view_module_version": "1.5.0",
            "orientation": "horizontal",
            "min": 0,
            "description_tooltip": null,
            "_model_module": "@jupyter-widgets/controls",
            "layout": "IPY_MODEL_f0b602ea9eb644a2bbfa119cd0c0d024"
          }
        },
        "944ca5725e1f47fb83bd1865c39cf370": {
          "model_module": "@jupyter-widgets/controls",
          "model_name": "HTMLModel",
          "state": {
            "_view_name": "HTMLView",
            "style": "IPY_MODEL_24cd3000c1eb435ebbe31d54b319c1c1",
            "_dom_classes": [],
            "description": "",
            "_model_name": "HTMLModel",
            "placeholder": "​",
            "_view_module": "@jupyter-widgets/controls",
            "_model_module_version": "1.5.0",
            "value": " 466k/466k [00:00&lt;00:00, 5.91MB/s]",
            "_view_count": null,
            "_view_module_version": "1.5.0",
            "description_tooltip": null,
            "_model_module": "@jupyter-widgets/controls",
            "layout": "IPY_MODEL_931039fc2bb9453da77de8b1dd8274c0"
          }
        },
        "6e18b91a1dde4c09a2d53a190bb64ab8": {
          "model_module": "@jupyter-widgets/controls",
          "model_name": "ProgressStyleModel",
          "state": {
            "_view_name": "StyleView",
            "_model_name": "ProgressStyleModel",
            "description_width": "initial",
            "_view_module": "@jupyter-widgets/base",
            "_model_module_version": "1.5.0",
            "_view_count": null,
            "_view_module_version": "1.2.0",
            "bar_color": null,
            "_model_module": "@jupyter-widgets/controls"
          }
        },
        "f0b602ea9eb644a2bbfa119cd0c0d024": {
          "model_module": "@jupyter-widgets/base",
          "model_name": "LayoutModel",
          "state": {
            "_view_name": "LayoutView",
            "grid_template_rows": null,
            "right": null,
            "justify_content": null,
            "_view_module": "@jupyter-widgets/base",
            "overflow": null,
            "_model_module_version": "1.2.0",
            "_view_count": null,
            "flex_flow": null,
            "width": null,
            "min_width": null,
            "border": null,
            "align_items": null,
            "bottom": null,
            "_model_module": "@jupyter-widgets/base",
            "top": null,
            "grid_column": null,
            "overflow_y": null,
            "overflow_x": null,
            "grid_auto_flow": null,
            "grid_area": null,
            "grid_template_columns": null,
            "flex": null,
            "_model_name": "LayoutModel",
            "justify_items": null,
            "grid_row": null,
            "max_height": null,
            "align_content": null,
            "visibility": null,
            "align_self": null,
            "height": null,
            "min_height": null,
            "padding": null,
            "grid_auto_rows": null,
            "grid_gap": null,
            "max_width": null,
            "order": null,
            "_view_module_version": "1.2.0",
            "grid_template_areas": null,
            "object_position": null,
            "object_fit": null,
            "grid_auto_columns": null,
            "margin": null,
            "display": null,
            "left": null
          }
        },
        "24cd3000c1eb435ebbe31d54b319c1c1": {
          "model_module": "@jupyter-widgets/controls",
          "model_name": "DescriptionStyleModel",
          "state": {
            "_view_name": "StyleView",
            "_model_name": "DescriptionStyleModel",
            "description_width": "",
            "_view_module": "@jupyter-widgets/base",
            "_model_module_version": "1.5.0",
            "_view_count": null,
            "_view_module_version": "1.2.0",
            "_model_module": "@jupyter-widgets/controls"
          }
        },
        "931039fc2bb9453da77de8b1dd8274c0": {
          "model_module": "@jupyter-widgets/base",
          "model_name": "LayoutModel",
          "state": {
            "_view_name": "LayoutView",
            "grid_template_rows": null,
            "right": null,
            "justify_content": null,
            "_view_module": "@jupyter-widgets/base",
            "overflow": null,
            "_model_module_version": "1.2.0",
            "_view_count": null,
            "flex_flow": null,
            "width": null,
            "min_width": null,
            "border": null,
            "align_items": null,
            "bottom": null,
            "_model_module": "@jupyter-widgets/base",
            "top": null,
            "grid_column": null,
            "overflow_y": null,
            "overflow_x": null,
            "grid_auto_flow": null,
            "grid_area": null,
            "grid_template_columns": null,
            "flex": null,
            "_model_name": "LayoutModel",
            "justify_items": null,
            "grid_row": null,
            "max_height": null,
            "align_content": null,
            "visibility": null,
            "align_self": null,
            "height": null,
            "min_height": null,
            "padding": null,
            "grid_auto_rows": null,
            "grid_gap": null,
            "max_width": null,
            "order": null,
            "_view_module_version": "1.2.0",
            "grid_template_areas": null,
            "object_position": null,
            "object_fit": null,
            "grid_auto_columns": null,
            "margin": null,
            "display": null,
            "left": null
          }
        }
      }
    }
  },
  "cells": [
    {
      "cell_type": "markdown",
      "metadata": {
        "id": "X50ZMNa7D2Eb"
      },
      "source": [
        "# Running Bert Extractive Summarizer"
      ]
    },
    {
      "cell_type": "code",
      "metadata": {
        "id": "1G38o9qg6dwi",
        "colab": {
          "base_uri": "https://localhost:8080/"
        },
        "outputId": "f9d4f9b2-60d0-4e02-d550-9b22dbd4737d"
      },
      "source": [
        "!pip install bert-extractive-summarizer==0.4.2"
      ],
      "execution_count": 1,
      "outputs": [
        {
          "output_type": "stream",
          "text": [
            "Collecting bert-extractive-summarizer==0.4.2\n",
            "  Downloading https://files.pythonhosted.org/packages/23/1d/71f0a5c7f81b1a87d4428a6a935e9ddeb5e662e41512952e11bd10533cd9/bert-extractive-summarizer-0.4.2.tar.gz\n",
            "Collecting transformers\n",
            "\u001b[?25l  Downloading https://files.pythonhosted.org/packages/d5/43/cfe4ee779bbd6a678ac6a97c5a5cdeb03c35f9eaebbb9720b036680f9a2d/transformers-4.6.1-py3-none-any.whl (2.2MB)\n",
            "\u001b[K     |████████████████████████████████| 2.3MB 37.6MB/s \n",
            "\u001b[?25hRequirement already satisfied: scikit-learn in /usr/local/lib/python3.7/dist-packages (from bert-extractive-summarizer==0.4.2) (0.22.2.post1)\n",
            "Requirement already satisfied: spacy in /usr/local/lib/python3.7/dist-packages (from bert-extractive-summarizer==0.4.2) (2.2.4)\n",
            "Requirement already satisfied: numpy>=1.17 in /usr/local/lib/python3.7/dist-packages (from transformers->bert-extractive-summarizer==0.4.2) (1.19.5)\n",
            "Requirement already satisfied: filelock in /usr/local/lib/python3.7/dist-packages (from transformers->bert-extractive-summarizer==0.4.2) (3.0.12)\n",
            "Requirement already satisfied: packaging in /usr/local/lib/python3.7/dist-packages (from transformers->bert-extractive-summarizer==0.4.2) (20.9)\n",
            "Collecting sacremoses\n",
            "\u001b[?25l  Downloading https://files.pythonhosted.org/packages/75/ee/67241dc87f266093c533a2d4d3d69438e57d7a90abb216fa076e7d475d4a/sacremoses-0.0.45-py3-none-any.whl (895kB)\n",
            "\u001b[K     |████████████████████████████████| 901kB 39.4MB/s \n",
            "\u001b[?25hRequirement already satisfied: regex!=2019.12.17 in /usr/local/lib/python3.7/dist-packages (from transformers->bert-extractive-summarizer==0.4.2) (2019.12.20)\n",
            "Requirement already satisfied: tqdm>=4.27 in /usr/local/lib/python3.7/dist-packages (from transformers->bert-extractive-summarizer==0.4.2) (4.41.1)\n",
            "Requirement already satisfied: importlib-metadata; python_version < \"3.8\" in /usr/local/lib/python3.7/dist-packages (from transformers->bert-extractive-summarizer==0.4.2) (4.0.1)\n",
            "Collecting tokenizers<0.11,>=0.10.1\n",
            "\u001b[?25l  Downloading https://files.pythonhosted.org/packages/ae/04/5b870f26a858552025a62f1649c20d29d2672c02ff3c3fb4c688ca46467a/tokenizers-0.10.2-cp37-cp37m-manylinux2010_x86_64.whl (3.3MB)\n",
            "\u001b[K     |████████████████████████████████| 3.3MB 36.6MB/s \n",
            "\u001b[?25hRequirement already satisfied: requests in /usr/local/lib/python3.7/dist-packages (from transformers->bert-extractive-summarizer==0.4.2) (2.23.0)\n",
            "Collecting huggingface-hub==0.0.8\n",
            "  Downloading https://files.pythonhosted.org/packages/a1/88/7b1e45720ecf59c6c6737ff332f41c955963090a18e72acbcbeac6b25e86/huggingface_hub-0.0.8-py3-none-any.whl\n",
            "Requirement already satisfied: scipy>=0.17.0 in /usr/local/lib/python3.7/dist-packages (from scikit-learn->bert-extractive-summarizer==0.4.2) (1.4.1)\n",
            "Requirement already satisfied: joblib>=0.11 in /usr/local/lib/python3.7/dist-packages (from scikit-learn->bert-extractive-summarizer==0.4.2) (1.0.1)\n",
            "Requirement already satisfied: catalogue<1.1.0,>=0.0.7 in /usr/local/lib/python3.7/dist-packages (from spacy->bert-extractive-summarizer==0.4.2) (1.0.0)\n",
            "Requirement already satisfied: cymem<2.1.0,>=2.0.2 in /usr/local/lib/python3.7/dist-packages (from spacy->bert-extractive-summarizer==0.4.2) (2.0.5)\n",
            "Requirement already satisfied: srsly<1.1.0,>=1.0.2 in /usr/local/lib/python3.7/dist-packages (from spacy->bert-extractive-summarizer==0.4.2) (1.0.5)\n",
            "Requirement already satisfied: thinc==7.4.0 in /usr/local/lib/python3.7/dist-packages (from spacy->bert-extractive-summarizer==0.4.2) (7.4.0)\n",
            "Requirement already satisfied: murmurhash<1.1.0,>=0.28.0 in /usr/local/lib/python3.7/dist-packages (from spacy->bert-extractive-summarizer==0.4.2) (1.0.5)\n",
            "Requirement already satisfied: setuptools in /usr/local/lib/python3.7/dist-packages (from spacy->bert-extractive-summarizer==0.4.2) (56.1.0)\n",
            "Requirement already satisfied: blis<0.5.0,>=0.4.0 in /usr/local/lib/python3.7/dist-packages (from spacy->bert-extractive-summarizer==0.4.2) (0.4.1)\n",
            "Requirement already satisfied: plac<1.2.0,>=0.9.6 in /usr/local/lib/python3.7/dist-packages (from spacy->bert-extractive-summarizer==0.4.2) (1.1.3)\n",
            "Requirement already satisfied: wasabi<1.1.0,>=0.4.0 in /usr/local/lib/python3.7/dist-packages (from spacy->bert-extractive-summarizer==0.4.2) (0.8.2)\n",
            "Requirement already satisfied: preshed<3.1.0,>=3.0.2 in /usr/local/lib/python3.7/dist-packages (from spacy->bert-extractive-summarizer==0.4.2) (3.0.5)\n",
            "Requirement already satisfied: pyparsing>=2.0.2 in /usr/local/lib/python3.7/dist-packages (from packaging->transformers->bert-extractive-summarizer==0.4.2) (2.4.7)\n",
            "Requirement already satisfied: click in /usr/local/lib/python3.7/dist-packages (from sacremoses->transformers->bert-extractive-summarizer==0.4.2) (8.0.0)\n",
            "Requirement already satisfied: six in /usr/local/lib/python3.7/dist-packages (from sacremoses->transformers->bert-extractive-summarizer==0.4.2) (1.15.0)\n",
            "Requirement already satisfied: typing-extensions>=3.6.4; python_version < \"3.8\" in /usr/local/lib/python3.7/dist-packages (from importlib-metadata; python_version < \"3.8\"->transformers->bert-extractive-summarizer==0.4.2) (3.7.4.3)\n",
            "Requirement already satisfied: zipp>=0.5 in /usr/local/lib/python3.7/dist-packages (from importlib-metadata; python_version < \"3.8\"->transformers->bert-extractive-summarizer==0.4.2) (3.4.1)\n",
            "Requirement already satisfied: chardet<4,>=3.0.2 in /usr/local/lib/python3.7/dist-packages (from requests->transformers->bert-extractive-summarizer==0.4.2) (3.0.4)\n",
            "Requirement already satisfied: certifi>=2017.4.17 in /usr/local/lib/python3.7/dist-packages (from requests->transformers->bert-extractive-summarizer==0.4.2) (2020.12.5)\n",
            "Requirement already satisfied: urllib3!=1.25.0,!=1.25.1,<1.26,>=1.21.1 in /usr/local/lib/python3.7/dist-packages (from requests->transformers->bert-extractive-summarizer==0.4.2) (1.24.3)\n",
            "Requirement already satisfied: idna<3,>=2.5 in /usr/local/lib/python3.7/dist-packages (from requests->transformers->bert-extractive-summarizer==0.4.2) (2.10)\n",
            "Building wheels for collected packages: bert-extractive-summarizer\n",
            "  Building wheel for bert-extractive-summarizer (setup.py) ... \u001b[?25l\u001b[?25hdone\n",
            "  Created wheel for bert-extractive-summarizer: filename=bert_extractive_summarizer-0.4.2-cp37-none-any.whl size=13711 sha256=30c55ab0c2f01dea435430bf774c6650ac44b20e94d3e50976c6f81a5fff7248\n",
            "  Stored in directory: /root/.cache/pip/wheels/13/bc/30/654eb9e657177a56cba927c5a20b6cd01fb229b1ed2bf9b371\n",
            "Successfully built bert-extractive-summarizer\n",
            "Installing collected packages: sacremoses, tokenizers, huggingface-hub, transformers, bert-extractive-summarizer\n",
            "Successfully installed bert-extractive-summarizer-0.4.2 huggingface-hub-0.0.8 sacremoses-0.0.45 tokenizers-0.10.2 transformers-4.6.1\n"
          ],
          "name": "stdout"
        }
      ]
    },
    {
      "cell_type": "code",
      "metadata": {
        "id": "eYGKbcEAVkE3",
        "colab": {
          "base_uri": "https://localhost:8080/"
        },
        "outputId": "f8b4876b-475d-4dee-b428-493f39319f54"
      },
      "source": [
        "!pip install sentencepiece"
      ],
      "execution_count": 2,
      "outputs": [
        {
          "output_type": "stream",
          "text": [
            "Collecting sentencepiece\n",
            "\u001b[?25l  Downloading https://files.pythonhosted.org/packages/f5/99/e0808cb947ba10f575839c43e8fafc9cc44e4a7a2c8f79c60db48220a577/sentencepiece-0.1.95-cp37-cp37m-manylinux2014_x86_64.whl (1.2MB)\n",
            "\r\u001b[K     |▎                               | 10kB 25.0MB/s eta 0:00:01\r\u001b[K     |▌                               | 20kB 32.3MB/s eta 0:00:01\r\u001b[K     |▉                               | 30kB 34.1MB/s eta 0:00:01\r\u001b[K     |█                               | 40kB 35.5MB/s eta 0:00:01\r\u001b[K     |█▍                              | 51kB 34.3MB/s eta 0:00:01\r\u001b[K     |█▋                              | 61kB 34.3MB/s eta 0:00:01\r\u001b[K     |██                              | 71kB 33.1MB/s eta 0:00:01\r\u001b[K     |██▏                             | 81kB 34.0MB/s eta 0:00:01\r\u001b[K     |██▌                             | 92kB 34.4MB/s eta 0:00:01\r\u001b[K     |██▊                             | 102kB 35.4MB/s eta 0:00:01\r\u001b[K     |███                             | 112kB 35.4MB/s eta 0:00:01\r\u001b[K     |███▎                            | 122kB 35.4MB/s eta 0:00:01\r\u001b[K     |███▌                            | 133kB 35.4MB/s eta 0:00:01\r\u001b[K     |███▉                            | 143kB 35.4MB/s eta 0:00:01\r\u001b[K     |████                            | 153kB 35.4MB/s eta 0:00:01\r\u001b[K     |████▍                           | 163kB 35.4MB/s eta 0:00:01\r\u001b[K     |████▋                           | 174kB 35.4MB/s eta 0:00:01\r\u001b[K     |█████                           | 184kB 35.4MB/s eta 0:00:01\r\u001b[K     |█████▏                          | 194kB 35.4MB/s eta 0:00:01\r\u001b[K     |█████▌                          | 204kB 35.4MB/s eta 0:00:01\r\u001b[K     |█████▊                          | 215kB 35.4MB/s eta 0:00:01\r\u001b[K     |██████                          | 225kB 35.4MB/s eta 0:00:01\r\u001b[K     |██████▎                         | 235kB 35.4MB/s eta 0:00:01\r\u001b[K     |██████▌                         | 245kB 35.4MB/s eta 0:00:01\r\u001b[K     |██████▉                         | 256kB 35.4MB/s eta 0:00:01\r\u001b[K     |███████                         | 266kB 35.4MB/s eta 0:00:01\r\u001b[K     |███████▍                        | 276kB 35.4MB/s eta 0:00:01\r\u001b[K     |███████▋                        | 286kB 35.4MB/s eta 0:00:01\r\u001b[K     |████████                        | 296kB 35.4MB/s eta 0:00:01\r\u001b[K     |████████▏                       | 307kB 35.4MB/s eta 0:00:01\r\u001b[K     |████████▍                       | 317kB 35.4MB/s eta 0:00:01\r\u001b[K     |████████▊                       | 327kB 35.4MB/s eta 0:00:01\r\u001b[K     |█████████                       | 337kB 35.4MB/s eta 0:00:01\r\u001b[K     |█████████▎                      | 348kB 35.4MB/s eta 0:00:01\r\u001b[K     |█████████▌                      | 358kB 35.4MB/s eta 0:00:01\r\u001b[K     |█████████▉                      | 368kB 35.4MB/s eta 0:00:01\r\u001b[K     |██████████                      | 378kB 35.4MB/s eta 0:00:01\r\u001b[K     |██████████▍                     | 389kB 35.4MB/s eta 0:00:01\r\u001b[K     |██████████▋                     | 399kB 35.4MB/s eta 0:00:01\r\u001b[K     |███████████                     | 409kB 35.4MB/s eta 0:00:01\r\u001b[K     |███████████▏                    | 419kB 35.4MB/s eta 0:00:01\r\u001b[K     |███████████▍                    | 430kB 35.4MB/s eta 0:00:01\r\u001b[K     |███████████▊                    | 440kB 35.4MB/s eta 0:00:01\r\u001b[K     |████████████                    | 450kB 35.4MB/s eta 0:00:01\r\u001b[K     |████████████▎                   | 460kB 35.4MB/s eta 0:00:01\r\u001b[K     |████████████▌                   | 471kB 35.4MB/s eta 0:00:01\r\u001b[K     |████████████▉                   | 481kB 35.4MB/s eta 0:00:01\r\u001b[K     |█████████████                   | 491kB 35.4MB/s eta 0:00:01\r\u001b[K     |█████████████▍                  | 501kB 35.4MB/s eta 0:00:01\r\u001b[K     |█████████████▋                  | 512kB 35.4MB/s eta 0:00:01\r\u001b[K     |█████████████▉                  | 522kB 35.4MB/s eta 0:00:01\r\u001b[K     |██████████████▏                 | 532kB 35.4MB/s eta 0:00:01\r\u001b[K     |██████████████▍                 | 542kB 35.4MB/s eta 0:00:01\r\u001b[K     |██████████████▊                 | 552kB 35.4MB/s eta 0:00:01\r\u001b[K     |███████████████                 | 563kB 35.4MB/s eta 0:00:01\r\u001b[K     |███████████████▎                | 573kB 35.4MB/s eta 0:00:01\r\u001b[K     |███████████████▌                | 583kB 35.4MB/s eta 0:00:01\r\u001b[K     |███████████████▉                | 593kB 35.4MB/s eta 0:00:01\r\u001b[K     |████████████████                | 604kB 35.4MB/s eta 0:00:01\r\u001b[K     |████████████████▍               | 614kB 35.4MB/s eta 0:00:01\r\u001b[K     |████████████████▋               | 624kB 35.4MB/s eta 0:00:01\r\u001b[K     |████████████████▉               | 634kB 35.4MB/s eta 0:00:01\r\u001b[K     |█████████████████▏              | 645kB 35.4MB/s eta 0:00:01\r\u001b[K     |█████████████████▍              | 655kB 35.4MB/s eta 0:00:01\r\u001b[K     |█████████████████▊              | 665kB 35.4MB/s eta 0:00:01\r\u001b[K     |██████████████████              | 675kB 35.4MB/s eta 0:00:01\r\u001b[K     |██████████████████▎             | 686kB 35.4MB/s eta 0:00:01\r\u001b[K     |██████████████████▌             | 696kB 35.4MB/s eta 0:00:01\r\u001b[K     |██████████████████▉             | 706kB 35.4MB/s eta 0:00:01\r\u001b[K     |███████████████████             | 716kB 35.4MB/s eta 0:00:01\r\u001b[K     |███████████████████▎            | 727kB 35.4MB/s eta 0:00:01\r\u001b[K     |███████████████████▋            | 737kB 35.4MB/s eta 0:00:01\r\u001b[K     |███████████████████▉            | 747kB 35.4MB/s eta 0:00:01\r\u001b[K     |████████████████████▏           | 757kB 35.4MB/s eta 0:00:01\r\u001b[K     |████████████████████▍           | 768kB 35.4MB/s eta 0:00:01\r\u001b[K     |████████████████████▊           | 778kB 35.4MB/s eta 0:00:01\r\u001b[K     |█████████████████████           | 788kB 35.4MB/s eta 0:00:01\r\u001b[K     |█████████████████████▎          | 798kB 35.4MB/s eta 0:00:01\r\u001b[K     |█████████████████████▌          | 808kB 35.4MB/s eta 0:00:01\r\u001b[K     |█████████████████████▉          | 819kB 35.4MB/s eta 0:00:01\r\u001b[K     |██████████████████████          | 829kB 35.4MB/s eta 0:00:01\r\u001b[K     |██████████████████████▎         | 839kB 35.4MB/s eta 0:00:01\r\u001b[K     |██████████████████████▋         | 849kB 35.4MB/s eta 0:00:01\r\u001b[K     |██████████████████████▉         | 860kB 35.4MB/s eta 0:00:01\r\u001b[K     |███████████████████████▏        | 870kB 35.4MB/s eta 0:00:01\r\u001b[K     |███████████████████████▍        | 880kB 35.4MB/s eta 0:00:01\r\u001b[K     |███████████████████████▊        | 890kB 35.4MB/s eta 0:00:01\r\u001b[K     |████████████████████████        | 901kB 35.4MB/s eta 0:00:01\r\u001b[K     |████████████████████████▎       | 911kB 35.4MB/s eta 0:00:01\r\u001b[K     |████████████████████████▌       | 921kB 35.4MB/s eta 0:00:01\r\u001b[K     |████████████████████████▊       | 931kB 35.4MB/s eta 0:00:01\r\u001b[K     |█████████████████████████       | 942kB 35.4MB/s eta 0:00:01\r\u001b[K     |█████████████████████████▎      | 952kB 35.4MB/s eta 0:00:01\r\u001b[K     |█████████████████████████▋      | 962kB 35.4MB/s eta 0:00:01\r\u001b[K     |█████████████████████████▉      | 972kB 35.4MB/s eta 0:00:01\r\u001b[K     |██████████████████████████▏     | 983kB 35.4MB/s eta 0:00:01\r\u001b[K     |██████████████████████████▍     | 993kB 35.4MB/s eta 0:00:01\r\u001b[K     |██████████████████████████▊     | 1.0MB 35.4MB/s eta 0:00:01\r\u001b[K     |███████████████████████████     | 1.0MB 35.4MB/s eta 0:00:01\r\u001b[K     |███████████████████████████▎    | 1.0MB 35.4MB/s eta 0:00:01\r\u001b[K     |███████████████████████████▌    | 1.0MB 35.4MB/s eta 0:00:01\r\u001b[K     |███████████████████████████▊    | 1.0MB 35.4MB/s eta 0:00:01\r\u001b[K     |████████████████████████████    | 1.1MB 35.4MB/s eta 0:00:01\r\u001b[K     |████████████████████████████▎   | 1.1MB 35.4MB/s eta 0:00:01\r\u001b[K     |████████████████████████████▋   | 1.1MB 35.4MB/s eta 0:00:01\r\u001b[K     |████████████████████████████▉   | 1.1MB 35.4MB/s eta 0:00:01\r\u001b[K     |█████████████████████████████▏  | 1.1MB 35.4MB/s eta 0:00:01\r\u001b[K     |█████████████████████████████▍  | 1.1MB 35.4MB/s eta 0:00:01\r\u001b[K     |█████████████████████████████▊  | 1.1MB 35.4MB/s eta 0:00:01\r\u001b[K     |██████████████████████████████  | 1.1MB 35.4MB/s eta 0:00:01\r\u001b[K     |██████████████████████████████▏ | 1.1MB 35.4MB/s eta 0:00:01\r\u001b[K     |██████████████████████████████▌ | 1.1MB 35.4MB/s eta 0:00:01\r\u001b[K     |██████████████████████████████▊ | 1.2MB 35.4MB/s eta 0:00:01\r\u001b[K     |███████████████████████████████ | 1.2MB 35.4MB/s eta 0:00:01\r\u001b[K     |███████████████████████████████▎| 1.2MB 35.4MB/s eta 0:00:01\r\u001b[K     |███████████████████████████████▋| 1.2MB 35.4MB/s eta 0:00:01\r\u001b[K     |███████████████████████████████▉| 1.2MB 35.4MB/s eta 0:00:01\r\u001b[K     |████████████████████████████████| 1.2MB 35.4MB/s \n",
            "\u001b[?25hInstalling collected packages: sentencepiece\n",
            "Successfully installed sentencepiece-0.1.95\n"
          ],
          "name": "stdout"
        }
      ]
    },
    {
      "cell_type": "code",
      "metadata": {
        "id": "5z-xS9Ht6gvo"
      },
      "source": [
        "import torch\n",
        "from summarizer import Summarizer\n",
        "\n",
        "assert torch.cuda.is_available()"
      ],
      "execution_count": 3,
      "outputs": []
    },
    {
      "cell_type": "code",
      "metadata": {
        "id": "JoMpyguk7rJj",
        "colab": {
          "base_uri": "https://localhost:8080/",
          "height": 333,
          "referenced_widgets": [
            "239374db97544249a38cecde57a6d77c",
            "51149e6d609f46ebb00a734938f77498",
            "7d06eb5e65cf44ff837333807176d339",
            "22596d7cf5d94095b3aa2cf4fb88b953",
            "c24aa05946e849ee95cd1f311f101bdb",
            "98a69a0518e74a849f749e87cc1d1296",
            "33b4705a7f014cdc95469b42bb852112",
            "b6ee95281937498abd1256c986feb911",
            "e40e3eacd6874ea8b2c2263a227bd785",
            "68f32e0c495a4fe6b64fbc82df3acca2",
            "779e569f7b45455f91d4bf41ea424ccf",
            "e250b03669c44eba862b1a4c50ec5c72",
            "ad6bb950dd654f03bcf67638c207f440",
            "d03a21f7d7a94a1ea3b5fb3749519773",
            "4702ed83b1de403681c10a633be2ea60",
            "81d28c4935da477b93f264bd37d12dfe",
            "7a13cac1d5f445f8a3a58ac8aa6e359e",
            "efd4ea1759be4bfaa824229623defa3e",
            "4dffaed497414847be443eb46a3415cf",
            "b0b5e49e77d54a94852fe26d18b2c518",
            "50a964baabd245279ad639368b8d8f33",
            "03598266422e4012ab54df391c7ad4ed",
            "a573aff0401a4bc79f9177318b04fa04",
            "bbbafe64a3ee496595542f7fc3515fab",
            "e78a72b8e116408ab0e5f36b95312f31",
            "83b5d6413a4f4a19b6fe7553f8b0edaa",
            "8a6db536ae844410b33a148be6630f98",
            "f3e02a5c4a394239bede236d698782c8",
            "989cdf8481b94b93a161013f5c722faf",
            "48b6684bca9645899660fa8410bf9ed9",
            "30814cef1ce9464aa4d43920f2a241bb",
            "ed2037e9e8a74b65ad891eed41e28959",
            "d0cda23de80e493ea45aafe1f6992602",
            "0928fe56626b4ac783334b9fbf1b826e",
            "6029a68bb0984522bc2dc858b16b5467",
            "944ca5725e1f47fb83bd1865c39cf370",
            "6e18b91a1dde4c09a2d53a190bb64ab8",
            "f0b602ea9eb644a2bbfa119cd0c0d024",
            "24cd3000c1eb435ebbe31d54b319c1c1",
            "931039fc2bb9453da77de8b1dd8274c0"
          ]
        },
        "outputId": "64e2ff56-4662-448e-e068-65c607cdcbe1"
      },
      "source": [
        "model = Summarizer('distilbert-base-uncased')"
      ],
      "execution_count": 4,
      "outputs": [
        {
          "output_type": "display_data",
          "data": {
            "application/vnd.jupyter.widget-view+json": {
              "model_id": "239374db97544249a38cecde57a6d77c",
              "version_minor": 0,
              "version_major": 2
            },
            "text/plain": [
              "HBox(children=(FloatProgress(value=0.0, description='Downloading', max=442.0, style=ProgressStyle(description_…"
            ]
          },
          "metadata": {
            "tags": []
          }
        },
        {
          "output_type": "stream",
          "text": [
            "\n"
          ],
          "name": "stdout"
        },
        {
          "output_type": "display_data",
          "data": {
            "application/vnd.jupyter.widget-view+json": {
              "model_id": "e40e3eacd6874ea8b2c2263a227bd785",
              "version_minor": 0,
              "version_major": 2
            },
            "text/plain": [
              "HBox(children=(FloatProgress(value=0.0, description='Downloading', max=267967963.0, style=ProgressStyle(descri…"
            ]
          },
          "metadata": {
            "tags": []
          }
        },
        {
          "output_type": "stream",
          "text": [
            "\n"
          ],
          "name": "stdout"
        },
        {
          "output_type": "stream",
          "text": [
            "Some weights of the model checkpoint at distilbert-base-uncased were not used when initializing DistilBertModel: ['vocab_layer_norm.bias', 'vocab_projector.weight', 'vocab_projector.bias', 'vocab_layer_norm.weight', 'vocab_transform.weight', 'vocab_transform.bias']\n",
            "- This IS expected if you are initializing DistilBertModel from the checkpoint of a model trained on another task or with another architecture (e.g. initializing a BertForSequenceClassification model from a BertForPreTraining model).\n",
            "- This IS NOT expected if you are initializing DistilBertModel from the checkpoint of a model that you expect to be exactly identical (initializing a BertForSequenceClassification model from a BertForSequenceClassification model).\n"
          ],
          "name": "stderr"
        },
        {
          "output_type": "display_data",
          "data": {
            "application/vnd.jupyter.widget-view+json": {
              "model_id": "7a13cac1d5f445f8a3a58ac8aa6e359e",
              "version_minor": 0,
              "version_major": 2
            },
            "text/plain": [
              "HBox(children=(FloatProgress(value=0.0, description='Downloading', max=231508.0, style=ProgressStyle(descripti…"
            ]
          },
          "metadata": {
            "tags": []
          }
        },
        {
          "output_type": "stream",
          "text": [
            "\n"
          ],
          "name": "stdout"
        },
        {
          "output_type": "display_data",
          "data": {
            "application/vnd.jupyter.widget-view+json": {
              "model_id": "e78a72b8e116408ab0e5f36b95312f31",
              "version_minor": 0,
              "version_major": 2
            },
            "text/plain": [
              "HBox(children=(FloatProgress(value=0.0, description='Downloading', max=28.0, style=ProgressStyle(description_w…"
            ]
          },
          "metadata": {
            "tags": []
          }
        },
        {
          "output_type": "stream",
          "text": [
            "\n"
          ],
          "name": "stdout"
        },
        {
          "output_type": "display_data",
          "data": {
            "application/vnd.jupyter.widget-view+json": {
              "model_id": "d0cda23de80e493ea45aafe1f6992602",
              "version_minor": 0,
              "version_major": 2
            },
            "text/plain": [
              "HBox(children=(FloatProgress(value=0.0, description='Downloading', max=466062.0, style=ProgressStyle(descripti…"
            ]
          },
          "metadata": {
            "tags": []
          }
        },
        {
          "output_type": "stream",
          "text": [
            "\n"
          ],
          "name": "stdout"
        }
      ]
    },
    {
      "cell_type": "code",
      "metadata": {
        "id": "Lv230OvS79qD",
        "colab": {
          "base_uri": "https://localhost:8080/"
        },
        "outputId": "2371c2bc-72c6-4e34-b7eb-2c7591d72581"
      },
      "source": [
        "import time\n",
        "\n",
        "start = time.time()\n",
        "resp = model('''\n",
        "    The Chrysler Building, the famous art deco New York skyscraper, will be sold for a small fraction of its previous sales price.\n",
        "    The deal, first reported by The Real Deal, was for $150 million, according to a source familiar with the deal.\n",
        "    Mubadala, an Abu Dhabi investment fund, purchased 90% of the building for $800 million in 2008.\n",
        "    Real estate firm Tishman Speyer had owned the other 10%.\n",
        "    The buyer is RFR Holding, a New York real estate company.\n",
        "    Officials with Tishman and RFR did not immediately respond to a request for comments.\n",
        "    It's unclear when the deal will close.\n",
        "    The building sold fairly quickly after being publicly placed on the market only two months ago.\n",
        "    The sale was handled by CBRE Group.\n",
        "    The incentive to sell the building at such a huge loss was due to the soaring rent the owners pay to Cooper Union, a New York college, for the land under the building.\n",
        "    The rent is rising from $7.75 million last year to $32.5 million this year to $41 million in 2028.\n",
        "    Meantime, rents in the building itself are not rising nearly that fast.\n",
        "    While the building is an iconic landmark in the New York skyline, it is competing against newer office towers with large floor-to-ceiling windows and all the modern amenities.\n",
        "    Still the building is among the best known in the city, even to people who have never been to New York.\n",
        "    It is famous for its triangle-shaped, vaulted windows worked into the stylized crown, along with its distinctive eagle gargoyles near the top.\n",
        "    It has been featured prominently in many films, including Men in Black 3, Spider-Man, Armageddon, Two Weeks Notice and Independence Day.\n",
        "    The previous sale took place just before the 2008 financial meltdown led to a plunge in real estate prices.\n",
        "    Still there have been a number of high profile skyscrapers purchased for top dollar in recent years, including the Waldorf Astoria hotel, which Chinese firm Anbang Insurance purchased in 2016 for nearly $2 billion, and the Willis Tower in Chicago, which was formerly known as Sears Tower, once the world's tallest.\n",
        "    Blackstone Group (BX) bought it for $1.3 billion 2015.\n",
        "    The Chrysler Building was the headquarters of the American automaker until 1953, but it was named for and owned by Chrysler chief Walter Chrysler, not the company itself.\n",
        "    Walter Chrysler had set out to build the tallest building in the world, a competition at that time with another Manhattan skyscraper under construction at 40 Wall Street at the south end of Manhattan. He kept secret the plans for the spire that would grace the top of the building, building it inside the structure and out of view of the public until 40 Wall Street was complete.\n",
        "    Once the competitor could rise no higher, the spire of the Chrysler building was raised into view, giving it the title.\n",
        "'''\n",
        ")\n",
        "\n",
        "end = time.time()\n",
        "\n",
        "print(f'Response Time: {end-start}')\n",
        "print(f'Summary: {resp}')"
      ],
      "execution_count": 5,
      "outputs": [
        {
          "output_type": "stream",
          "text": [
            "Response Time: 0.3975539207458496\n",
            "Summary: The Chrysler Building, the famous art deco New York skyscraper, will be sold for a small fraction of its previous sales price. Mubadala, an Abu Dhabi investment fund, purchased 90% of the building for $800 million in 2008. The buyer is RFR Holding, a New York real estate company. It has been featured prominently in many films, including Men in Black 3, Spider-Man, Armageddon, Two Weeks Notice and Independence Day.\n"
          ],
          "name": "stdout"
        }
      ]
    },
    {
      "cell_type": "code",
      "metadata": {
        "id": "sp4zGwgX_Yli"
      },
      "source": [
        "assert model.model.model.device.type == 'cuda'"
      ],
      "execution_count": 6,
      "outputs": []
    },
    {
      "cell_type": "code",
      "metadata": {
        "id": "NZZ9lA6IFtDj"
      },
      "source": [
        ""
      ],
      "execution_count": null,
      "outputs": []
    }
  ]
}