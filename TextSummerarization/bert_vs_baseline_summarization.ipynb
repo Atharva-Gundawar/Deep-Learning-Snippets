{
  "nbformat": 4,
  "nbformat_minor": 0,
  "metadata": {
    "colab": {
      "name": "bert_vs_baseline_summarization.ipynb",
      "provenance": [],
      "collapsed_sections": [],
      "toc_visible": true
    },
    "kernelspec": {
      "name": "python3",
      "display_name": "Python 3"
    }
  },
  "cells": [
    {
      "cell_type": "markdown",
      "metadata": {
        "id": "dBGNan1vpo7b"
      },
      "source": [
        "## Summarize using BERT or Baseline Model\n",
        "- Simply run each cell below\n",
        "- Enter your choice of model when prompted\n",
        "- You're good to go!  \n"
      ]
    },
    {
      "cell_type": "markdown",
      "metadata": {
        "id": "VCbH-FXTYSZX"
      },
      "source": [
        "  \n",
        "Connects your Google Drive to Colab"
      ]
    },
    {
      "cell_type": "code",
      "metadata": {
        "id": "7VXFSmhQpkUS"
      },
      "source": [
        "from google.colab import drive\n",
        "drive.mount('/content/drive')"
      ],
      "execution_count": null,
      "outputs": []
    },
    {
      "cell_type": "markdown",
      "metadata": {
        "id": "1p5r8Fb1YpEQ"
      },
      "source": [
        "This gets you into your Google Drive 'homepage'"
      ]
    },
    {
      "cell_type": "code",
      "metadata": {
        "id": "flzoDg4AlzML"
      },
      "source": [
        "cd drive/My Drive"
      ],
      "execution_count": null,
      "outputs": []
    },
    {
      "cell_type": "markdown",
      "metadata": {
        "id": "GC8FKQOzY0vi"
      },
      "source": [
        "This cell will clone everything you need into your Google Drive/Colab (or your local machine)\n"
      ]
    },
    {
      "cell_type": "code",
      "metadata": {
        "id": "vUYHqQvzmKBs",
        "colab": {
          "base_uri": "https://localhost:8080/"
        },
        "outputId": "cb2457a6-7dfb-4e9a-ee33-e9c5086dc1b4"
      },
      "source": [
        "!git clone https://github.com/dhk3136/summarization-bert-vs-baseline.git"
      ],
      "execution_count": 1,
      "outputs": [
        {
          "output_type": "stream",
          "text": [
            "Cloning into 'summarization-bert-vs-baseline'...\n",
            "remote: Enumerating objects: 180, done.\u001b[K\n",
            "remote: Counting objects: 100% (6/6), done.\u001b[K\n",
            "remote: Compressing objects: 100% (5/5), done.\u001b[K\n",
            "remote: Total 180 (delta 1), reused 4 (delta 1), pack-reused 174\u001b[K\n",
            "Receiving objects: 100% (180/180), 8.26 MiB | 35.23 MiB/s, done.\n",
            "Resolving deltas: 100% (70/70), done.\n"
          ],
          "name": "stdout"
        }
      ]
    },
    {
      "cell_type": "markdown",
      "metadata": {
        "id": "rbFN7dL8ZGBV"
      },
      "source": [
        "Change directories to get into the repo"
      ]
    },
    {
      "cell_type": "code",
      "metadata": {
        "id": "UbxcMZc_oto7"
      },
      "source": [
        ""
      ],
      "execution_count": null,
      "outputs": []
    },
    {
      "cell_type": "markdown",
      "metadata": {
        "id": "w54dQo9NZZSa"
      },
      "source": [
        "Install all required packages"
      ]
    },
    {
      "cell_type": "code",
      "metadata": {
        "id": "cFkzYkXE6PJ1",
        "colab": {
          "base_uri": "https://localhost:8080/"
        },
        "outputId": "753d386e-96e5-4241-c828-8a7e57bb81ab"
      },
      "source": [
        "%%bash\n",
        "cd summarization-bert-vs-baseline\n",
        "pip install -r requirements.txt"
      ],
      "execution_count": 3,
      "outputs": [
        {
          "output_type": "stream",
          "text": [
            "Collecting numpy==1.16.3\n",
            "  Downloading https://files.pythonhosted.org/packages/bb/76/24e9f32c78e6f6fb26cf2596b428f393bf015b63459468119f282f70a7fd/numpy-1.16.3-cp37-cp37m-manylinux1_x86_64.whl (17.3MB)\n",
            "Collecting torch==1.0.1\n",
            "  Downloading https://files.pythonhosted.org/packages/4e/ba/d78f35357995297206790fe1af8688bc0403828c90f8e99190035196d56e/torch-1.0.1-cp37-cp37m-manylinux1_x86_64.whl (560.1MB)\n",
            "Collecting spacy==2.1.3\n",
            "  Downloading https://files.pythonhosted.org/packages/c7/29/ede5977ea144bb5758407542eb363ebfb11bbb459d26dea5dd0545563854/spacy-2.1.3-cp37-cp37m-manylinux1_x86_64.whl (27.7MB)\n",
            "Collecting pytorch-pretrained-bert==0.6.2\n",
            "  Downloading https://files.pythonhosted.org/packages/d7/e0/c08d5553b89973d9a240605b9c12404bcf8227590de62bae27acbcfe076b/pytorch_pretrained_bert-0.6.2-py3-none-any.whl (123kB)\n",
            "Collecting Cython==0.29.10\n",
            "  Downloading https://files.pythonhosted.org/packages/b8/c0/500afce93187b9d94d5c6e80a3032f90bf559bd4c8d12b45a10bc9a67b92/Cython-0.29.10-cp37-cp37m-manylinux1_x86_64.whl (2.1MB)\n",
            "Collecting tqdm==4.32.2\n",
            "  Downloading https://files.pythonhosted.org/packages/9f/3d/7a6b68b631d2ab54975f3a4863f3c4e9b26445353264ef01f465dc9b0208/tqdm-4.32.2-py2.py3-none-any.whl (50kB)\n",
            "Collecting neuralcoref==4.0\n",
            "  Downloading https://files.pythonhosted.org/packages/06/6d/c90e5bfd1b8ef32f1b231a32f2f625bf33df7525324d2bbcd08992791d64/neuralcoref-4.0-cp37-cp37m-manylinux1_x86_64.whl (286kB)\n",
            "Collecting argparse\n",
            "  Downloading https://files.pythonhosted.org/packages/f2/94/3af39d34be01a24a6e65433d19e107099374224905f1e0cc6bbe1fd22a2f/argparse-1.4.0-py2.py3-none-any.whl\n",
            "Requirement already satisfied: sklearn in /usr/local/lib/python3.7/dist-packages (from -r requirements.txt (line 9)) (0.0)\n",
            "Requirement already satisfied: jsonschema<3.0.0,>=2.6.0 in /usr/local/lib/python3.7/dist-packages (from spacy==2.1.3->-r requirements.txt (line 3)) (2.6.0)\n",
            "Collecting blis<0.3.0,>=0.2.2\n",
            "  Downloading https://files.pythonhosted.org/packages/fa/5f/47b7b29ad202b2210020e2f33bfb06d1db2abe0e709c2a84736e8a9d1bd5/blis-0.2.4-cp37-cp37m-manylinux1_x86_64.whl (3.2MB)\n",
            "Requirement already satisfied: requests<3.0.0,>=2.13.0 in /usr/local/lib/python3.7/dist-packages (from spacy==2.1.3->-r requirements.txt (line 3)) (2.23.0)\n",
            "Requirement already satisfied: wasabi<1.1.0,>=0.2.0 in /usr/local/lib/python3.7/dist-packages (from spacy==2.1.3->-r requirements.txt (line 3)) (0.8.2)\n",
            "Requirement already satisfied: srsly<1.1.0,>=0.0.5 in /usr/local/lib/python3.7/dist-packages (from spacy==2.1.3->-r requirements.txt (line 3)) (1.0.5)\n",
            "Requirement already satisfied: murmurhash<1.1.0,>=0.28.0 in /usr/local/lib/python3.7/dist-packages (from spacy==2.1.3->-r requirements.txt (line 3)) (1.0.5)\n",
            "Collecting thinc<7.1.0,>=7.0.2\n",
            "  Downloading https://files.pythonhosted.org/packages/36/42/d7ea7539af3852fd8c1f0b3adf4a100fb3d72b40b69cef1a764ff979a743/thinc-7.0.8-cp37-cp37m-manylinux1_x86_64.whl (2.1MB)\n",
            "Collecting preshed<2.1.0,>=2.0.1\n",
            "  Downloading https://files.pythonhosted.org/packages/bc/2b/3ecd5d90d2d6fd39fbc520de7d80db5d74defdc2d7c2e15531d9cc3498c7/preshed-2.0.1-cp37-cp37m-manylinux1_x86_64.whl (82kB)\n",
            "Requirement already satisfied: cymem<2.1.0,>=2.0.2 in /usr/local/lib/python3.7/dist-packages (from spacy==2.1.3->-r requirements.txt (line 3)) (2.0.5)\n",
            "Collecting plac<1.0.0,>=0.9.6\n",
            "  Downloading https://files.pythonhosted.org/packages/9e/9b/62c60d2f5bc135d2aa1d8c8a86aaf84edb719a59c7f11a4316259e61a298/plac-0.9.6-py2.py3-none-any.whl\n",
            "Requirement already satisfied: regex in /usr/local/lib/python3.7/dist-packages (from pytorch-pretrained-bert==0.6.2->-r requirements.txt (line 4)) (2019.12.20)\n",
            "Collecting boto3\n",
            "  Downloading https://files.pythonhosted.org/packages/5b/a9/3fb9677877f805bf9eedc63e76eca90a902291ceb062950b5e81c24309d2/boto3-1.17.78.tar.gz (98kB)\n",
            "Requirement already satisfied: scikit-learn in /usr/local/lib/python3.7/dist-packages (from sklearn->-r requirements.txt (line 9)) (0.22.2.post1)\n",
            "Requirement already satisfied: urllib3!=1.25.0,!=1.25.1,<1.26,>=1.21.1 in /usr/local/lib/python3.7/dist-packages (from requests<3.0.0,>=2.13.0->spacy==2.1.3->-r requirements.txt (line 3)) (1.24.3)\n",
            "Requirement already satisfied: certifi>=2017.4.17 in /usr/local/lib/python3.7/dist-packages (from requests<3.0.0,>=2.13.0->spacy==2.1.3->-r requirements.txt (line 3)) (2020.12.5)\n",
            "Requirement already satisfied: chardet<4,>=3.0.2 in /usr/local/lib/python3.7/dist-packages (from requests<3.0.0,>=2.13.0->spacy==2.1.3->-r requirements.txt (line 3)) (3.0.4)\n",
            "Requirement already satisfied: idna<3,>=2.5 in /usr/local/lib/python3.7/dist-packages (from requests<3.0.0,>=2.13.0->spacy==2.1.3->-r requirements.txt (line 3)) (2.10)\n",
            "Collecting botocore<1.21.0,>=1.20.78\n",
            "  Downloading https://files.pythonhosted.org/packages/b4/9e/b5c2ba127c653d22b5b9a48b173fb3e12f3bafc4f6c52004fa737157e63b/botocore-1.20.78-py2.py3-none-any.whl (7.5MB)\n",
            "Collecting jmespath<1.0.0,>=0.7.1\n",
            "  Downloading https://files.pythonhosted.org/packages/07/cb/5f001272b6faeb23c1c9e0acc04d48eaaf5c862c17709d20e3469c6e0139/jmespath-0.10.0-py2.py3-none-any.whl\n",
            "Collecting s3transfer<0.5.0,>=0.4.0\n",
            "  Downloading https://files.pythonhosted.org/packages/63/d0/693477c688348654ddc21dcdce0817653a294aa43f41771084c25e7ff9c7/s3transfer-0.4.2-py2.py3-none-any.whl (79kB)\n",
            "Requirement already satisfied: scipy>=0.17.0 in /usr/local/lib/python3.7/dist-packages (from scikit-learn->sklearn->-r requirements.txt (line 9)) (1.4.1)\n",
            "Requirement already satisfied: joblib>=0.11 in /usr/local/lib/python3.7/dist-packages (from scikit-learn->sklearn->-r requirements.txt (line 9)) (1.0.1)\n",
            "Requirement already satisfied: python-dateutil<3.0.0,>=2.1 in /usr/local/lib/python3.7/dist-packages (from botocore<1.21.0,>=1.20.78->boto3->pytorch-pretrained-bert==0.6.2->-r requirements.txt (line 4)) (2.8.1)\n",
            "Requirement already satisfied: six>=1.5 in /usr/local/lib/python3.7/dist-packages (from python-dateutil<3.0.0,>=2.1->botocore<1.21.0,>=1.20.78->boto3->pytorch-pretrained-bert==0.6.2->-r requirements.txt (line 4)) (1.15.0)\n",
            "Building wheels for collected packages: boto3\n",
            "  Building wheel for boto3 (setup.py): started\n",
            "  Building wheel for boto3 (setup.py): finished with status 'done'\n",
            "  Created wheel for boto3: filename=boto3-1.17.78-py2.py3-none-any.whl size=128921 sha256=c7fb0f9c77f948625b7eabc34972dc8c3095fb027ec629a45903d365669e34e8\n",
            "  Stored in directory: /root/.cache/pip/wheels/35/4e/0b/65ce88240e97b158d4a062630f6815337a79cd64bbc61bbd1e\n",
            "Successfully built boto3\n",
            "Installing collected packages: numpy, torch, blis, tqdm, preshed, plac, thinc, spacy, jmespath, botocore, s3transfer, boto3, pytorch-pretrained-bert, Cython, neuralcoref, argparse\n",
            "  Found existing installation: numpy 1.19.5\n",
            "    Uninstalling numpy-1.19.5:\n",
            "      Successfully uninstalled numpy-1.19.5\n",
            "  Found existing installation: torch 1.8.1+cu101\n",
            "    Uninstalling torch-1.8.1+cu101:\n",
            "      Successfully uninstalled torch-1.8.1+cu101\n",
            "  Found existing installation: blis 0.4.1\n",
            "    Uninstalling blis-0.4.1:\n",
            "      Successfully uninstalled blis-0.4.1\n",
            "  Found existing installation: tqdm 4.41.1\n",
            "    Uninstalling tqdm-4.41.1:\n",
            "      Successfully uninstalled tqdm-4.41.1\n",
            "  Found existing installation: preshed 3.0.5\n",
            "    Uninstalling preshed-3.0.5:\n",
            "      Successfully uninstalled preshed-3.0.5\n",
            "  Found existing installation: plac 1.1.3\n",
            "    Uninstalling plac-1.1.3:\n",
            "      Successfully uninstalled plac-1.1.3\n",
            "  Found existing installation: thinc 7.4.0\n",
            "    Uninstalling thinc-7.4.0:\n",
            "      Successfully uninstalled thinc-7.4.0\n",
            "  Found existing installation: spacy 2.2.4\n",
            "    Uninstalling spacy-2.2.4:\n",
            "      Successfully uninstalled spacy-2.2.4\n",
            "  Found existing installation: Cython 0.29.23\n",
            "    Uninstalling Cython-0.29.23:\n",
            "      Successfully uninstalled Cython-0.29.23\n",
            "Successfully installed Cython-0.29.10 argparse-1.4.0 blis-0.2.4 boto3-1.17.78 botocore-1.20.78 jmespath-0.10.0 neuralcoref-4.0 numpy-1.16.3 plac-0.9.6 preshed-2.0.1 pytorch-pretrained-bert-0.6.2 s3transfer-0.4.2 spacy-2.1.3 thinc-7.0.8 torch-1.0.1 tqdm-4.32.2\n"
          ],
          "name": "stdout"
        },
        {
          "output_type": "stream",
          "text": [
            "ERROR: xarray 0.18.0 has requirement numpy>=1.17, but you'll have numpy 1.16.3 which is incompatible.\n",
            "ERROR: torchvision 0.9.1+cu101 has requirement torch==1.8.1, but you'll have torch 1.0.1 which is incompatible.\n",
            "ERROR: torchtext 0.9.1 has requirement torch==1.8.1, but you'll have torch 1.0.1 which is incompatible.\n",
            "ERROR: tensorflow 2.4.1 has requirement numpy~=1.19.2, but you'll have numpy 1.16.3 which is incompatible.\n",
            "ERROR: pyarrow 3.0.0 has requirement numpy>=1.16.6, but you'll have numpy 1.16.3 which is incompatible.\n",
            "ERROR: fbprophet 0.7.1 has requirement tqdm>=4.36.1, but you'll have tqdm 4.32.2 which is incompatible.\n",
            "ERROR: en-core-web-sm 2.2.5 has requirement spacy>=2.2.2, but you'll have spacy 2.1.3 which is incompatible.\n",
            "ERROR: datascience 0.10.6 has requirement folium==0.2.1, but you'll have folium 0.8.3 which is incompatible.\n",
            "ERROR: astropy 4.2.1 has requirement numpy>=1.17, but you'll have numpy 1.16.3 which is incompatible.\n",
            "ERROR: albumentations 0.1.12 has requirement imgaug<0.2.7,>=0.2.5, but you'll have imgaug 0.2.9 which is incompatible.\n",
            "ERROR: botocore 1.20.78 has requirement urllib3<1.27,>=1.25.4, but you'll have urllib3 1.24.3 which is incompatible.\n"
          ],
          "name": "stderr"
        }
      ]
    },
    {
      "cell_type": "markdown",
      "metadata": {
        "id": "KmZzDfFDZj1Z"
      },
      "source": [
        "NLTK has a funny way of managing packages so we need to install them this way"
      ]
    },
    {
      "cell_type": "code",
      "metadata": {
        "id": "f0u-TRmImnL8",
        "colab": {
          "base_uri": "https://localhost:8080/"
        },
        "outputId": "9f8a2ff7-29f7-4341-c496-4a84144a93d9"
      },
      "source": [
        "import nltk\n",
        "nltk.download('punkt')\n",
        "nltk.download('stopwords')"
      ],
      "execution_count": 4,
      "outputs": [
        {
          "output_type": "stream",
          "text": [
            "[nltk_data] Downloading package punkt to /root/nltk_data...\n",
            "[nltk_data]   Unzipping tokenizers/punkt.zip.\n",
            "[nltk_data] Downloading package stopwords to /root/nltk_data...\n",
            "[nltk_data]   Unzipping corpora/stopwords.zip.\n"
          ],
          "name": "stdout"
        },
        {
          "output_type": "execute_result",
          "data": {
            "text/plain": [
              "True"
            ]
          },
          "metadata": {
            "tags": []
          },
          "execution_count": 4
        }
      ]
    },
    {
      "cell_type": "markdown",
      "metadata": {
        "id": "H9zJsdbiaD_K"
      },
      "source": [
        "And... we're finally ready. Execute the following cell to get started.  \n",
        "You'll be prompted the rest of the way. Enjoy!"
      ]
    },
    {
      "cell_type": "code",
      "metadata": {
        "id": "pVB5EJ4saOg4",
        "colab": {
          "base_uri": "https://localhost:8080/"
        },
        "outputId": "b85162d3-0c41-4217-a07e-31fda3dc0692"
      },
      "source": [
        "!python /content/summarization-bert-vs-baseline/summarize.py"
      ],
      "execution_count": 16,
      "outputs": [
        {
          "output_type": "stream",
          "text": [
            "Please enter 1 to use the BERT summarizer or 2 for the Vanilla summarizer:\n",
            "2\n",
            "Welcome to the Baseline Model Summarizer!\n",
            "\n",
            "Enter A for URL input:\n",
            "Enter B for text file input:\n",
            "Enter C for copy/paste input:\n",
            "(case-sensitive)\n",
            "C\n",
            "\n",
            "For Option C, simply copy/paste any text you'd like to summarize below.\n",
            "\n",
            "\n",
            "If you'd like a copy of your summary, you can find it in the `your_summaries` directory.\n",
            "\n",
            "INPUT:\n",
            "Over and over again in 2018, during an apology tour that took him from the halls of the US Congress to an appearance before the European Parliament, Mark Zuckerberg said Facebook had failed to \"take a broad enough view of our responsibilities.\"  But two years later, Zuckerberg and Facebook are still struggling with their responsibilities and how to handle one of their most famous users: President Donald Trump.  Despite Zuckerberg having previously indicated any post that \"incites violence\" would be a line in the sand — even if it came from a politician — Facebook remained silent for hours Friday after Trump was accused of glorifying violence in posts that appeared on its platforms.  At 12:53am ET on Friday morning, as cable news networks carried images of fires and destructive protests in Minneapolis, the President tweeted : \"These THUGS are dishonoring the memory of George Floyd, and I won't let that happen. Just spoke to Governor Tim Walz and told him that the Military is with him all the way. Any difficulty and we will assume control but, when the looting starts, the shooting starts. Thank you!\"  His phrase \"when the looting starts, the shooting starts,\" mirrors language used by a Miami police chief in the late 1960s in the wake of riots. Its use was immediately condemned by a wide array of individuals, from historians to members of rival political campaigns. Former Vice President and presumptive Democratic nominee Joe Biden said Trump was calling for violence against American citizens during a moment of pain for so many.\n",
            "\n",
            "SUMMARY:\n",
            "His phrase \"when the looting starts, the shooting starts,\" mirrors language used by a Miami police chief in the late 1960s in the wake of riots.Any difficulty and we will assume control but, when the looting starts, the shooting starts.Former Vice President and presumptive Democratic nominee Joe Biden said Trump was calling for violence against American citizens during a moment of pain for so many.But two years later, Zuckerberg and Facebook are still struggling with their responsibilities and how to handle one of their most famous users: President Donald Trump.\n",
            "\n",
            "FULL TEXT:\n",
            "Over and over again in 2018, during an apology tour that took him from the halls of the US Congress to an appearance before the European Parliament, Mark Zuckerberg said Facebook had failed to \"take a broad enough view of our responsibilities.\" But two years later, Zuckerberg and Facebook are still struggling with their responsibilities and how to handle one of their most famous users: President Donald Trump. Despite Zuckerberg having previously indicated any post that \"incites violence\" would be a line in the sand — even if it came from a politician — Facebook remained silent for hours Friday after Trump was accused of glorifying violence in posts that appeared on its platforms. At 12:53am ET on Friday morning, as cable news networks carried images of fires and destructive protests in Minneapolis, the President tweeted : \"These THUGS are dishonoring the memory of George Floyd, and I won't let that happen. Just spoke to Governor Tim Walz and told him that the Military is with him all the way. Any difficulty and we will assume control but, when the looting starts, the shooting starts. Thank you!\" His phrase \"when the looting starts, the shooting starts,\" mirrors language used by a Miami police chief in the late 1960s in the wake of riots. Its use was immediately condemned by a wide array of individuals, from historians to members of rival political campaigns. Former Vice President and presumptive Democratic nominee Joe Biden said Trump was calling for violence against American citizens during a moment of pain for so many.\n",
            "====== \n",
            "\n",
            "SUMMARY:\n",
            "His phrase \"when the looting starts, the shooting starts,\" mirrors language used by a Miami police chief in the late 1960s in the wake of riots.Any difficulty and we will assume control but, when the looting starts, the shooting starts.Former Vice President and presumptive Democratic nominee Joe Biden said Trump was calling for violence against American citizens during a moment of pain for so many.But two years later, Zuckerberg and Facebook are still struggling with their responsibilities and how to handle one of their most famous users: President Donald Trump.\n",
            "Traceback (most recent call last):\n",
            "  File \"/content/summarization-bert-vs-baseline/summarize.py\", line 352, in <module>\n",
            "    with open('your_summaries/summary.txt', 'a') as summary_output:\n",
            "FileNotFoundError: [Errno 2] No such file or directory: 'your_summaries/summary.txt'\n"
          ],
          "name": "stdout"
        }
      ]
    },
    {
      "cell_type": "code",
      "metadata": {
        "id": "scC-ugNegYaZ",
        "outputId": "781707d3-05f0-40c8-9a3c-d0fcc0819d83",
        "colab": {
          "base_uri": "https://localhost:8080/"
        }
      },
      "source": [
        "!python /content/summarization-bert-vs-baseline/mysum.py"
      ],
      "execution_count": 19,
      "outputs": [
        {
          "output_type": "stream",
          "text": [
            "Please enter 1 to use the BERT summarizer or 2 for the Vanilla summarizer:\n",
            "2\n",
            "Welcome to the Baseline Model Summarizer!\n",
            "\n",
            "\n",
            "For Option C, simply copy/paste any text you'd like to summarize below.\n",
            "\n",
            "\n",
            "If you'd like a copy of your summary, you can find it in the `your_summaries` directory.\n",
            "\n",
            "INPUT:\n",
            "Over and over again in 2018, during an apology tour that took him from the halls of the US Congress to an appearance before the European Parliament, Mark Zuckerberg said Facebook had failed to \"take a broad enough view of our responsibilities.\"  But two years later, Zuckerberg and Facebook are still struggling with their responsibilities and how to handle one of their most famous users: President Donald Trump.  Despite Zuckerberg having previously indicated any post that \"incites violence\" would be a line in the sand — even if it came from a politician — Facebook remained silent for hours Friday after Trump was accused of glorifying violence in posts that appeared on its platforms.  At 12:53am ET on Friday morning, as cable news networks carried images of fires and destructive protests in Minneapolis, the President tweeted : \"These THUGS are dishonoring the memory of George Floyd, and I won't let that happen. Just spoke to Governor Tim Walz and told him that the Military is with him all the way. Any difficulty and we will assume control but, when the looting starts, the shooting starts. Thank you!\"  His phrase \"when the looting starts, the shooting starts,\" mirrors language used by a Miami police chief in the late 1960s in the wake of riots. Its use was immediately condemned by a wide array of individuals, from historians to members of rival political campaigns. Former Vice President and presumptive Democratic nominee Joe Biden said Trump was \"calling for violence against American citizens during a moment of pain for so many.\"\n",
            "==== Over and over again in 2018, during an apology tour that took him from the halls of the US Congress to an appearance before the European Parliament, Mark Zuckerberg said Facebook had failed to \"take a broad enough view of our responsibilities.\"  But two years later, Zuckerberg and Facebook are still struggling with their responsibilities and how to handle one of their most famous users: President Donald Trump.  Despite Zuckerberg having previously indicated any post that \"incites violence\" would be a line in the sand — even if it came from a politician — Facebook remained silent for hours Friday after Trump was accused of glorifying violence in posts that appeared on its platforms.  At 12:53am ET on Friday morning, as cable news networks carried images of fires and destructive protests in Minneapolis, the President tweeted : \"These THUGS are dishonoring the memory of George Floyd, and I won't let that happen. Just spoke to Governor Tim Walz and told him that the Military is with him all the way. Any difficulty and we will assume control but, when the looting starts, the shooting starts. Thank you!\"  His phrase \"when the looting starts, the shooting starts,\" mirrors language used by a Miami police chief in the late 1960s in the wake of riots. Its use was immediately condemned by a wide array of individuals, from historians to members of rival political campaigns. Former Vice President and presumptive Democratic nominee Joe Biden said Trump was \"calling for violence against American citizens during a moment of pain for so many.\"\n",
            "==== Over and over again in 2018, during an apology tour that took him from the halls of the US Congress to an appearance before the European Parliament, Mark Zuckerberg said Facebook had failed to \"take a broad enough view of our responsibilities.\" But two years later, Zuckerberg and Facebook are still struggling with their responsibilities and how to handle one of their most famous users: President Donald Trump. Despite Zuckerberg having previously indicated any post that \"incites violence\" would be a line in the sand — even if it came from a politician — Facebook remained silent for hours Friday after Trump was accused of glorifying violence in posts that appeared on its platforms. At 12:53am ET on Friday morning, as cable news networks carried images of fires and destructive protests in Minneapolis, the President tweeted : \"These THUGS are dishonoring the memory of George Floyd, and I won't let that happen. Just spoke to Governor Tim Walz and told him that the Military is with him all the way. Any difficulty and we will assume control but, when the looting starts, the shooting starts. Thank you!\" His phrase \"when the looting starts, the shooting starts,\" mirrors language used by a Miami police chief in the late 1960s in the wake of riots. Its use was immediately condemned by a wide array of individuals, from historians to members of rival political campaigns. Former Vice President and presumptive Democratic nominee Joe Biden said Trump was \"calling for violence against American citizens during a moment of pain for so many.\"\n",
            "==== Over and over again in during an apology tour that took him from the halls of the US Congress to an appearance before the European Parliament Mark Zuckerberg said Facebook had failed to take a broad enough view of our responsibilities But two years later Zuckerberg and Facebook are still struggling with their responsibilities and how to handle one of their most famous users President Donald Trump Despite Zuckerberg having previously indicated any post that incites violence would be a line in the sand even if it came from a politician Facebook remained silent for hours Friday after Trump was accused of glorifying violence in posts that appeared on its platforms At am ET on Friday morning as cable news networks carried images of fires and destructive protests in Minneapolis the President tweeted These THUGS are dishonoring the memory of George Floyd and I won t let that happen Just spoke to Governor Tim Walz and told him that the Military is with him all the way Any difficulty and we will assume control but when the looting starts the shooting starts Thank you His phrase when the looting starts the shooting starts mirrors language used by a Miami police chief in the late s in the wake of riots Its use was immediately condemned by a wide array of individuals from historians to members of rival political campaigns Former Vice President and presumptive Democratic nominee Joe Biden said Trump was calling for violence against American citizens during a moment of pain for so many \n",
            "His phrase \"when the looting starts, the shooting starts,\" mirrors language used by a Miami police chief in the late 1960s in the wake of riots.Any difficulty and we will assume control but, when the looting starts, the shooting starts.Former Vice President and presumptive Democratic nominee Joe Biden said Trump was \"calling for violence against American citizens during a moment of pain for so many.\"But two years later, Zuckerberg and Facebook are still struggling with their responsibilities and how to handle one of their most famous users: President Donald Trump.\n",
            "\n",
            "SUMMARY:\n",
            "His phrase \"when the looting starts, the shooting starts,\" mirrors language used by a Miami police chief in the late 1960s in the wake of riots.Any difficulty and we will assume control but, when the looting starts, the shooting starts.Former Vice President and presumptive Democratic nominee Joe Biden said Trump was \"calling for violence against American citizens during a moment of pain for so many.\"But two years later, Zuckerberg and Facebook are still struggling with their responsibilities and how to handle one of their most famous users: President Donald Trump.\n",
            "\n",
            "FULL TEXT:\n",
            "Over and over again in 2018, during an apology tour that took him from the halls of the US Congress to an appearance before the European Parliament, Mark Zuckerberg said Facebook had failed to \"take a broad enough view of our responsibilities.\" But two years later, Zuckerberg and Facebook are still struggling with their responsibilities and how to handle one of their most famous users: President Donald Trump. Despite Zuckerberg having previously indicated any post that \"incites violence\" would be a line in the sand — even if it came from a politician — Facebook remained silent for hours Friday after Trump was accused of glorifying violence in posts that appeared on its platforms. At 12:53am ET on Friday morning, as cable news networks carried images of fires and destructive protests in Minneapolis, the President tweeted : \"These THUGS are dishonoring the memory of George Floyd, and I won't let that happen. Just spoke to Governor Tim Walz and told him that the Military is with him all the way. Any difficulty and we will assume control but, when the looting starts, the shooting starts. Thank you!\" His phrase \"when the looting starts, the shooting starts,\" mirrors language used by a Miami police chief in the late 1960s in the wake of riots. Its use was immediately condemned by a wide array of individuals, from historians to members of rival political campaigns. Former Vice President and presumptive Democratic nominee Joe Biden said Trump was \"calling for violence against American citizens during a moment of pain for so many.\"\n",
            "====== \n",
            "\n",
            "SUMMARY:\n",
            "His phrase \"when the looting starts, the shooting starts,\" mirrors language used by a Miami police chief in the late 1960s in the wake of riots.Any difficulty and we will assume control but, when the looting starts, the shooting starts.Former Vice President and presumptive Democratic nominee Joe Biden said Trump was \"calling for violence against American citizens during a moment of pain for so many.\"But two years later, Zuckerberg and Facebook are still struggling with their responsibilities and how to handle one of their most famous users: President Donald Trump.\n",
            "Traceback (most recent call last):\n",
            "  File \"/content/summarization-bert-vs-baseline/mysum.py\", line 110, in <module>\n",
            "    with open('your_summaries/summary.txt', 'a') as summary_output:\n",
            "FileNotFoundError: [Errno 2] No such file or directory: 'your_summaries/summary.txt'\n"
          ],
          "name": "stdout"
        }
      ]
    },
    {
      "cell_type": "code",
      "metadata": {
        "id": "LQbEBCD3Xy-C",
        "outputId": "5051fdf6-2943-4453-bc1e-f524bd116480",
        "colab": {
          "base_uri": "https://localhost:8080/",
          "height": 381
        }
      },
      "source": [
        "import numpy as np\n",
        "from summarizer import SingleModel\n",
        "import bs4 as bs  \n",
        "import urllib.request  \n",
        "import re\n",
        "import argparse\n",
        "import nltk\n",
        "import logging\n",
        "import heapq\n",
        "\n",
        "\n",
        "# choose BERT or vanilla summarizer\n",
        "choose_bert_or_vanilla = input('Please enter 1 to use the BERT summarizer or 2 for the Vanilla summarizer:\\n')\n",
        "\n",
        "# BERT summarizer\n",
        "if choose_bert_or_vanilla == '1':\n",
        "    print('Welcome to the BERT Summarizer!\\n')\n",
        "    \n",
        "    # choose URL, text file, or copy/paste input\n",
        "\n",
        "    print(\"If you'd like a copy of your summary, you can find it in the `your_summaries` directory.\\n\")\n",
        "\n",
        "    text_copy_paste = input('INPUT:\\n')\n",
        "    text_copy_paste = 'Please wait while your summary is processing...'\n",
        "\n",
        "    # importing model and passing in full-text string\n",
        "    model = SingleModel()\n",
        "    m = model(text_copy_paste)\n",
        "    print(m)\n",
        "    # creating final summary with a ratio of 0.13\n",
        "    summary_file = '\\n\\nSUMMARY:\\n' + m\n",
        "\n",
        "    # printing summary and full text output for comparison\n",
        "    print(f'\\n\\nSUMMARY:\\n{model(text_copy_paste)}\\n')\n",
        "    print(f'FULL TEXT:\\n', text_copy_paste)\n",
        "    print(summary_file)\n",
        "\n",
        "    # appending summary output to text file\n",
        "    with open('/content/summarization-bert-vs-baseline/your_summaries/summary.txt', 'a') as summary_output:\n",
        "        for line in summary_file:\n",
        "            summary_output.write(line)\n",
        "\n",
        "# baseline summarizer\n",
        "if choose_bert_or_vanilla == '2':\n",
        "    print('Welcome to the Baseline Model Summarizer!\\n')\n",
        "    print(\"\\nFor Option C, simply copy/paste any text you'd like to summarize below.\\n\\n\")\n",
        "    print(\"If you'd like a copy of your summary, you can find it in the `your_summaries` directory.\\n\")\n",
        "\n",
        "    # reading in text as string\n",
        "    text_copy_paste = input('INPUT:\\n')\n",
        "    text_copy_paste = str(text_copy_paste)\n",
        "    print(\"====\",text_copy_paste)\n",
        "\n",
        "\n",
        "    # text processing and clean up\n",
        "    text_copy_paste = re.sub(r'\\[[0-9]*\\]', ' ', text_copy_paste)  \n",
        "    text_copy_paste = re.sub(r'\\s+', ' ', text_copy_paste)  \n",
        "    print(\"====\",text_copy_paste)\n",
        "\n",
        "    processed_article = re.sub('[^a-zA-Z]', ' ', text_copy_paste )  \n",
        "    processed_article = re.sub(r'\\s+', ' ', processed_article)\n",
        "    print(\"====\",processed_article)\n",
        "\n",
        "    # sentence-level tokenization of full text\n",
        "    sentence_list = nltk.sent_tokenize(text_copy_paste)  \n",
        "    # print(\"====\",sentence_list)\n",
        "\n",
        "    # NLTK stopword list; optionally can use sklearn stopwords\n",
        "    stopwords = nltk.corpus.stopwords.words('english')\n",
        "\n",
        "    # creating term frequency dict\n",
        "    word_frequencies = {}  \n",
        "    for word in nltk.word_tokenize(processed_article):  \n",
        "        if word not in stopwords:\n",
        "            if word not in word_frequencies.keys():\n",
        "                word_frequencies[word] = 1\n",
        "            else:\n",
        "                word_frequencies[word] += 1\n",
        "\n",
        "    maximum_frequency = max(word_frequencies.values())\n",
        "    \n",
        "    # adding term frequency ratios as dict values\n",
        "    for word in word_frequencies.keys():  \n",
        "        word_frequencies[word] = (word_frequencies[word]/maximum_frequency)\n",
        "\n",
        "    # final ranking for summary sentence inclusion\n",
        "    sentence_scores = {}  \n",
        "    for sent in sentence_list:  \n",
        "        for word in nltk.word_tokenize(sent.lower()):\n",
        "            if word in word_frequencies.keys():\n",
        "                if len(sent.split(' ')) < 30:\n",
        "                    if sent not in sentence_scores.keys():\n",
        "                        sentence_scores[sent] = word_frequencies[word]\n",
        "                    else:\n",
        "                        sentence_scores[sent] += word_frequencies[word]\n",
        "\n",
        "    # creating final summary with default 4 highest-scoring sentences\n",
        "    summary_sentences = heapq.nlargest(4, sentence_scores, key=sentence_scores.get)\n",
        "    summary_sentences = ''.join(summary_sentences)\n",
        "    summary_file = '\\n\\nSUMMARY:\\n' + summary_sentences\n",
        "    print(summary_sentences)\n",
        "    \n",
        "    # printing summary and full-text output for comparison\n",
        "    print(f'\\nSUMMARY:\\n{summary_sentences}\\n')\n",
        "    print(f'FULL TEXT:')\n",
        "    print(text_copy_paste)\n",
        "    print(\"======\",summary_file)\n",
        "\n",
        "    # appending summary to text file\n",
        "    with open('your_summaries/summary.txt', 'a') as summary_output:\n",
        "        for line in summary_file:\n",
        "            summary_output.write(line)\n"
      ],
      "execution_count": 17,
      "outputs": [
        {
          "output_type": "error",
          "ename": "ModuleNotFoundError",
          "evalue": "ignored",
          "traceback": [
            "\u001b[0;31m---------------------------------------------------------------------------\u001b[0m",
            "\u001b[0;31mModuleNotFoundError\u001b[0m                       Traceback (most recent call last)",
            "\u001b[0;32m<ipython-input-17-add6776724bb>\u001b[0m in \u001b[0;36m<module>\u001b[0;34m()\u001b[0m\n\u001b[1;32m      1\u001b[0m \u001b[0;32mimport\u001b[0m \u001b[0mnumpy\u001b[0m \u001b[0;32mas\u001b[0m \u001b[0mnp\u001b[0m\u001b[0;34m\u001b[0m\u001b[0;34m\u001b[0m\u001b[0m\n\u001b[0;32m----> 2\u001b[0;31m \u001b[0;32mfrom\u001b[0m \u001b[0msummarizer\u001b[0m \u001b[0;32mimport\u001b[0m \u001b[0mSingleModel\u001b[0m\u001b[0;34m\u001b[0m\u001b[0;34m\u001b[0m\u001b[0m\n\u001b[0m\u001b[1;32m      3\u001b[0m \u001b[0;32mimport\u001b[0m \u001b[0mbs4\u001b[0m \u001b[0;32mas\u001b[0m \u001b[0mbs\u001b[0m\u001b[0;34m\u001b[0m\u001b[0;34m\u001b[0m\u001b[0m\n\u001b[1;32m      4\u001b[0m \u001b[0;32mimport\u001b[0m \u001b[0murllib\u001b[0m\u001b[0;34m.\u001b[0m\u001b[0mrequest\u001b[0m\u001b[0;34m\u001b[0m\u001b[0;34m\u001b[0m\u001b[0m\n\u001b[1;32m      5\u001b[0m \u001b[0;32mimport\u001b[0m \u001b[0mre\u001b[0m\u001b[0;34m\u001b[0m\u001b[0;34m\u001b[0m\u001b[0m\n",
            "\u001b[0;31mModuleNotFoundError\u001b[0m: No module named 'summarizer'",
            "",
            "\u001b[0;31m---------------------------------------------------------------------------\u001b[0;32m\nNOTE: If your import is failing due to a missing package, you can\nmanually install dependencies using either !pip or !apt.\n\nTo view examples of installing some common dependencies, click the\n\"Open Examples\" button below.\n\u001b[0;31m---------------------------------------------------------------------------\u001b[0m\n"
          ]
        }
      ]
    },
    {
      "cell_type": "code",
      "metadata": {
        "id": "PrSs9Z7YgGUY",
        "outputId": "2522050e-89bc-4871-a07f-f79105377553",
        "colab": {
          "base_uri": "https://localhost:8080/"
        }
      },
      "source": [
        "from summa import summarizer\n",
        "\n",
        "input_sent = \"Over and over again in 2018, during an apology tour that took him from the halls of the US Congress to an appearance before the European Parliament, Mark Zuckerberg said Facebook had failed to take a broad enough view of our responsibilities. But two years later, Zuckerberg and Facebook are still struggling with their responsibilities and how to handle one of their most famous users: President Donald Trump.Despite Zuckerberg having previously indicated any post that incites violence would be a line in the sand — even if it came from a politician — Facebook remained silent for hours Friday after Trump was accused of glorifying violence in posts that appeared on its platforms. At 12:53am ET on Friday morning, as cable news networks carried images of fires and destructive protests in Minneapolis, the President tweeted : These THUGS are dishonoring the memory of George Floyd, and I won't let that happen. Just spoke to Governor Tim Walz and told him that the Military is with him all the way. Any difficulty and we will assume control but, when the looting starts, the shooting starts. Thank you! His phrase when the looting starts, the shooting starts, mirrors language used by a Miami police chief in the late 1960s in the wake of riots. Its use was immediately condemned by a wide array of individuals, from historians to members of rival political campaigns. Former Vice President and presumptive Democratic nominee Joe Biden said Trump was calling for violence against American citizens during a moment of pain for so many.\"\n",
        "\n",
        "ratio = 0.2\n",
        "# Display named entities\n",
        "summarized_text = summarizer.summarize(\n",
        "    input_sent, ratio=ratio, language=\"english\", split=True, scores=True\n",
        ")\n",
        "print(len(input_sent))\n",
        "print(\"==========\")\n",
        "sum = 0\n",
        "\n",
        "for sentence, score in summarized_text:\n",
        "    sum+=len(sentence)\n",
        "\n",
        "print(sum)"
      ],
      "execution_count": 30,
      "outputs": [
        {
          "output_type": "stream",
          "text": [
            "1537\n",
            "==========\n",
            "440\n"
          ],
          "name": "stdout"
        }
      ]
    },
    {
      "cell_type": "code",
      "metadata": {
        "id": "Wluyw_z7iVlf",
        "outputId": "b631bfed-30c5-485d-a7a4-78b4e9beaf2a",
        "colab": {
          "base_uri": "https://localhost:8080/"
        }
      },
      "source": [
        "!pip install summa"
      ],
      "execution_count": 21,
      "outputs": [
        {
          "output_type": "stream",
          "text": [
            "Collecting summa\n",
            "\u001b[?25l  Downloading https://files.pythonhosted.org/packages/45/3b/1c7dc435d05aef474c4137328400f1e11787b9bffab1f87a3f160c1fef54/summa-1.2.0.tar.gz (54kB)\n",
            "\r\u001b[K     |██████                          | 10kB 9.6MB/s eta 0:00:01\r\u001b[K     |████████████                    | 20kB 13.1MB/s eta 0:00:01\r\u001b[K     |██████████████████              | 30kB 15.2MB/s eta 0:00:01\r\u001b[K     |███████████████████████▉        | 40kB 17.0MB/s eta 0:00:01\r\u001b[K     |█████████████████████████████▉  | 51kB 18.3MB/s eta 0:00:01\r\u001b[K     |████████████████████████████████| 61kB 5.0MB/s \n",
            "\u001b[?25hRequirement already satisfied: scipy>=0.19 in /usr/local/lib/python3.7/dist-packages (from summa) (1.4.1)\n",
            "Requirement already satisfied: numpy>=1.13.3 in /usr/local/lib/python3.7/dist-packages (from scipy>=0.19->summa) (1.16.3)\n",
            "Building wheels for collected packages: summa\n",
            "  Building wheel for summa (setup.py) ... \u001b[?25l\u001b[?25hdone\n",
            "  Created wheel for summa: filename=summa-1.2.0-cp37-none-any.whl size=54411 sha256=4bc9e74e47db8c9156c00ea11c5a3455b032f2bb56c17b3cf24c9cc7b6c4eb55\n",
            "  Stored in directory: /root/.cache/pip/wheels/6a/09/68/e2f2861c01d86407c3fa5220826ed7eed2abaa56b001be5970\n",
            "Successfully built summa\n",
            "Installing collected packages: summa\n",
            "Successfully installed summa-1.2.0\n"
          ],
          "name": "stdout"
        }
      ]
    },
    {
      "cell_type": "code",
      "metadata": {
        "id": "VejdApW4iYdx"
      },
      "source": [
        ""
      ],
      "execution_count": null,
      "outputs": []
    }
  ]
}